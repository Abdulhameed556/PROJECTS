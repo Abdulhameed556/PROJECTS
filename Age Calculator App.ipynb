{
 "cells": [
  {
   "cell_type": "code",
   "execution_count": 1,
   "id": "1010b562",
   "metadata": {},
   "outputs": [
    {
     "data": {
      "text/plain": [
       "True"
      ]
     },
     "execution_count": 1,
     "metadata": {},
     "output_type": "execute_result"
    }
   ],
   "source": [
    "def is_even(x: int) -> bool:\n",
    "    \"\"\"\n",
    "    checks if input is even\n",
    "\n",
    "    :param x:\n",
    "    :return: boolean\n",
    "    \"\"\"\n",
    "    if x%2==0:\n",
    "        return True\n",
    "    else:\n",
    "        return False\n",
    "\n",
    "is_even(26)"
   ]
  },
  {
   "cell_type": "code",
   "execution_count": 2,
   "id": "10a358c3",
   "metadata": {},
   "outputs": [
    {
     "data": {
      "text/plain": [
       "1.5"
      ]
     },
     "execution_count": 2,
     "metadata": {},
     "output_type": "execute_result"
    }
   ],
   "source": [
    "def division(x:float, y:float) -> float:\n",
    "    return x/y\n",
    "division(3.0,2.0)\n"
   ]
  },
  {
   "cell_type": "code",
   "execution_count": 5,
   "id": "e4cea980",
   "metadata": {},
   "outputs": [
    {
     "ename": "ZeroDivisionError",
     "evalue": "float division by zero",
     "output_type": "error",
     "traceback": [
      "\u001b[1;31m---------------------------------------------------------------------------\u001b[0m",
      "\u001b[1;31mZeroDivisionError\u001b[0m                         Traceback (most recent call last)",
      "Cell \u001b[1;32mIn[5], line 3\u001b[0m\n\u001b[0;32m      1\u001b[0m \u001b[38;5;28;01mdef\u001b[39;00m \u001b[38;5;21mdivision\u001b[39m(x:\u001b[38;5;28mfloat\u001b[39m, y:\u001b[38;5;28mfloat\u001b[39m) \u001b[38;5;241m-\u001b[39m\u001b[38;5;241m>\u001b[39m \u001b[38;5;28mfloat\u001b[39m:\n\u001b[0;32m      2\u001b[0m     \u001b[38;5;28;01mreturn\u001b[39;00m x\u001b[38;5;241m/\u001b[39my\n\u001b[1;32m----> 3\u001b[0m division(\u001b[38;5;241m3.0\u001b[39m,\u001b[38;5;241m0\u001b[39m)\n",
      "Cell \u001b[1;32mIn[5], line 2\u001b[0m, in \u001b[0;36mdivision\u001b[1;34m(x, y)\u001b[0m\n\u001b[0;32m      1\u001b[0m \u001b[38;5;28;01mdef\u001b[39;00m \u001b[38;5;21mdivision\u001b[39m(x:\u001b[38;5;28mfloat\u001b[39m, y:\u001b[38;5;28mfloat\u001b[39m) \u001b[38;5;241m-\u001b[39m\u001b[38;5;241m>\u001b[39m \u001b[38;5;28mfloat\u001b[39m:\n\u001b[1;32m----> 2\u001b[0m     \u001b[38;5;28;01mreturn\u001b[39;00m x\u001b[38;5;241m/\u001b[39my\n",
      "\u001b[1;31mZeroDivisionError\u001b[0m: float division by zero"
     ]
    }
   ],
   "source": [
    "def division(x:float, y:float) -> float:\n",
    "    return x/y\n",
    "division(3.0,0)"
   ]
  },
  {
   "cell_type": "code",
   "execution_count": 6,
   "id": "817b5e11",
   "metadata": {},
   "outputs": [
    {
     "name": "stdout",
     "output_type": "stream",
     "text": [
      "can't divide by zero\n"
     ]
    }
   ],
   "source": [
    "try:\n",
    "    division(3.0,0)\n",
    "except ZeroDivisionError:\n",
    "    print(\"can't divide by zero\")"
   ]
  },
  {
   "cell_type": "code",
   "execution_count": 1,
   "id": "5b4ab391",
   "metadata": {},
   "outputs": [],
   "source": [
    "from tkinter import *"
   ]
  },
  {
   "cell_type": "code",
   "execution_count": 3,
   "id": "2f9b9736",
   "metadata": {},
   "outputs": [],
   "source": [
    "from datetime import date"
   ]
  },
  {
   "cell_type": "code",
   "execution_count": 9,
   "id": "3560cc6a",
   "metadata": {},
   "outputs": [
    {
     "ename": "TclError",
     "evalue": "couldn't open \"Age calculator  .png\": no such file or directory",
     "output_type": "error",
     "traceback": [
      "\u001b[1;31m---------------------------------------------------------------------------\u001b[0m",
      "\u001b[1;31mTclError\u001b[0m                                  Traceback (most recent call last)",
      "Cell \u001b[1;32mIn[9], line 6\u001b[0m\n\u001b[0;32m      3\u001b[0m root\u001b[38;5;241m.\u001b[39mresizable(\u001b[38;5;28;01mFalse\u001b[39;00m,\u001b[38;5;28;01mFalse\u001b[39;00m)\n\u001b[0;32m      4\u001b[0m root\u001b[38;5;241m.\u001b[39mtitle(\u001b[38;5;124m\"\u001b[39m\u001b[38;5;124mAge calculator\u001b[39m\u001b[38;5;124m\"\u001b[39m)\n\u001b[1;32m----> 6\u001b[0m photo\u001b[38;5;241m=\u001b[39mPhotoImage(file\u001b[38;5;241m=\u001b[39m\u001b[38;5;124m\"\u001b[39m\u001b[38;5;124mAge calculator  .png\u001b[39m\u001b[38;5;124m\"\u001b[39m)\n\u001b[0;32m      7\u001b[0m myimage\u001b[38;5;241m=\u001b[39mLabel(image\u001b[38;5;241m=\u001b[39mphoto)\n\u001b[0;32m      8\u001b[0m myimage\u001b[38;5;241m.\u001b[39mpack(padx\u001b[38;5;241m=\u001b[39m\u001b[38;5;241m15\u001b[39m,pady\u001b[38;5;241m=\u001b[39m\u001b[38;5;241m15\u001b[39m)\n",
      "File \u001b[1;32m~\\anaconda3\\Lib\\tkinter\\__init__.py:4125\u001b[0m, in \u001b[0;36mPhotoImage.__init__\u001b[1;34m(self, name, cnf, master, **kw)\u001b[0m\n\u001b[0;32m   4120\u001b[0m \u001b[38;5;28;01mdef\u001b[39;00m \u001b[38;5;21m__init__\u001b[39m(\u001b[38;5;28mself\u001b[39m, name\u001b[38;5;241m=\u001b[39m\u001b[38;5;28;01mNone\u001b[39;00m, cnf\u001b[38;5;241m=\u001b[39m{}, master\u001b[38;5;241m=\u001b[39m\u001b[38;5;28;01mNone\u001b[39;00m, \u001b[38;5;241m*\u001b[39m\u001b[38;5;241m*\u001b[39mkw):\n\u001b[0;32m   4121\u001b[0m \u001b[38;5;250m    \u001b[39m\u001b[38;5;124;03m\"\"\"Create an image with NAME.\u001b[39;00m\n\u001b[0;32m   4122\u001b[0m \n\u001b[0;32m   4123\u001b[0m \u001b[38;5;124;03m    Valid resource names: data, format, file, gamma, height, palette,\u001b[39;00m\n\u001b[0;32m   4124\u001b[0m \u001b[38;5;124;03m    width.\"\"\"\u001b[39;00m\n\u001b[1;32m-> 4125\u001b[0m     Image\u001b[38;5;241m.\u001b[39m\u001b[38;5;21m__init__\u001b[39m(\u001b[38;5;28mself\u001b[39m, \u001b[38;5;124m'\u001b[39m\u001b[38;5;124mphoto\u001b[39m\u001b[38;5;124m'\u001b[39m, name, cnf, master, \u001b[38;5;241m*\u001b[39m\u001b[38;5;241m*\u001b[39mkw)\n",
      "File \u001b[1;32m~\\anaconda3\\Lib\\tkinter\\__init__.py:4072\u001b[0m, in \u001b[0;36mImage.__init__\u001b[1;34m(self, imgtype, name, cnf, master, **kw)\u001b[0m\n\u001b[0;32m   4070\u001b[0m \u001b[38;5;28;01mfor\u001b[39;00m k, v \u001b[38;5;129;01min\u001b[39;00m cnf\u001b[38;5;241m.\u001b[39mitems():\n\u001b[0;32m   4071\u001b[0m     options \u001b[38;5;241m=\u001b[39m options \u001b[38;5;241m+\u001b[39m (\u001b[38;5;124m'\u001b[39m\u001b[38;5;124m-\u001b[39m\u001b[38;5;124m'\u001b[39m\u001b[38;5;241m+\u001b[39mk, v)\n\u001b[1;32m-> 4072\u001b[0m \u001b[38;5;28mself\u001b[39m\u001b[38;5;241m.\u001b[39mtk\u001b[38;5;241m.\u001b[39mcall((\u001b[38;5;124m'\u001b[39m\u001b[38;5;124mimage\u001b[39m\u001b[38;5;124m'\u001b[39m, \u001b[38;5;124m'\u001b[39m\u001b[38;5;124mcreate\u001b[39m\u001b[38;5;124m'\u001b[39m, imgtype, name,) \u001b[38;5;241m+\u001b[39m options)\n\u001b[0;32m   4073\u001b[0m \u001b[38;5;28mself\u001b[39m\u001b[38;5;241m.\u001b[39mname \u001b[38;5;241m=\u001b[39m name\n",
      "\u001b[1;31mTclError\u001b[0m: couldn't open \"Age calculator  .png\": no such file or directory"
     ]
    }
   ],
   "source": [
    "root=Tk()\n",
    "root.geometry(\"800x600\")\n",
    "root.resizable(False,False)\n",
    "root.title(\"Age calculator\")\n",
    "\n",
    "photo=PhotoImage(file=\"Age calculator  .png\")\n",
    "myimage=Label(image=photo)\n",
    "myimage.pack(padx=15,pady=15)\n",
    "\n",
    "def calculateAge():\n",
    "    today=date.today()\n",
    "    birthDate=date(int(yearEntry.get()),int(monthEntry.get()),int(dayEntry.get()))\n",
    "    age=today.year - birthDate,year-((today.month,today.day)<(birthDate.month,birthDate.day))\n",
    "    Label(text=f\"{nameValue.get()} your age is {age}\",font=30).place(x=300,y=500)\n",
    "\n",
    "Label(text=\"Name\",font=23).place(x=200,y=250)\n",
    "Label(text=\"Year\",font=23).place(x=200,y=300)\n",
    "Label(text=\"Month\",font=23).place(x=200,y=350)\n",
    "Label(text=\"Day\",font=23).place(x=200,y=400)\n",
    "\n",
    "nameValue=StringVar()\n",
    "yearValue=StringVar()\n",
    "monthValue=StringVar()\n",
    "dayValue=StringVar()\n",
    "\n",
    "nameEntry=Entry(root,textvariable=nameValue,width=30,bd=3,font=20)\n",
    "nameEntry.place(x=300,y=250)\n",
    "\n",
    "yearEntry=Entry(root,textvariable=yearValue,width=30,bd=3,font=20)\n",
    "yearEntry.place(x=300,y=250)\n",
    "\n",
    "monthEntry=Entry(root,textvariable=monthValue,width=30,bd=3,font=20)\n",
    "monthEntry.place(x=300,y=250)\n",
    "\n",
    "dayEntry=Entry(root,textvariable=nameValue,width=30,bd=3,font=20)\n",
    "dayEntry.place(x=300,y=400)\n",
    "\n",
    "Button(text=\"Calculate Age\",font=20,bg=\"black\",fg=\"white\",width=11,height=2,command=calculateAge).place(x=300,y=450)\n",
    "\n"
   ]
  },
  {
   "cell_type": "code",
   "execution_count": 19,
   "id": "86eccca7",
   "metadata": {},
   "outputs": [
    {
     "ename": "TclError",
     "evalue": "couldn't open \"C:\\Users\\LICT\\Today\\Age Calculator App\\Age calculator.png\": no such file or directory",
     "output_type": "error",
     "traceback": [
      "\u001b[1;31m---------------------------------------------------------------------------\u001b[0m",
      "\u001b[1;31mTclError\u001b[0m                                  Traceback (most recent call last)",
      "Cell \u001b[1;32mIn[19], line 13\u001b[0m\n\u001b[0;32m     10\u001b[0m root\u001b[38;5;241m.\u001b[39mresizable(\u001b[38;5;28;01mFalse\u001b[39;00m, \u001b[38;5;28;01mFalse\u001b[39;00m)\n\u001b[0;32m     11\u001b[0m root\u001b[38;5;241m.\u001b[39mtitle(\u001b[38;5;124m\"\u001b[39m\u001b[38;5;124mAge calculator\u001b[39m\u001b[38;5;124m\"\u001b[39m)\n\u001b[1;32m---> 13\u001b[0m photo \u001b[38;5;241m=\u001b[39m PhotoImage(file\u001b[38;5;241m=\u001b[39mimage_path)\n\u001b[0;32m     14\u001b[0m myimage \u001b[38;5;241m=\u001b[39m Label(image\u001b[38;5;241m=\u001b[39mphoto)\n\u001b[0;32m     15\u001b[0m myimage\u001b[38;5;241m.\u001b[39mpack(padx\u001b[38;5;241m=\u001b[39m\u001b[38;5;241m15\u001b[39m, pady\u001b[38;5;241m=\u001b[39m\u001b[38;5;241m15\u001b[39m)\n",
      "File \u001b[1;32m~\\anaconda3\\Lib\\tkinter\\__init__.py:4125\u001b[0m, in \u001b[0;36mPhotoImage.__init__\u001b[1;34m(self, name, cnf, master, **kw)\u001b[0m\n\u001b[0;32m   4120\u001b[0m \u001b[38;5;28;01mdef\u001b[39;00m \u001b[38;5;21m__init__\u001b[39m(\u001b[38;5;28mself\u001b[39m, name\u001b[38;5;241m=\u001b[39m\u001b[38;5;28;01mNone\u001b[39;00m, cnf\u001b[38;5;241m=\u001b[39m{}, master\u001b[38;5;241m=\u001b[39m\u001b[38;5;28;01mNone\u001b[39;00m, \u001b[38;5;241m*\u001b[39m\u001b[38;5;241m*\u001b[39mkw):\n\u001b[0;32m   4121\u001b[0m \u001b[38;5;250m    \u001b[39m\u001b[38;5;124;03m\"\"\"Create an image with NAME.\u001b[39;00m\n\u001b[0;32m   4122\u001b[0m \n\u001b[0;32m   4123\u001b[0m \u001b[38;5;124;03m    Valid resource names: data, format, file, gamma, height, palette,\u001b[39;00m\n\u001b[0;32m   4124\u001b[0m \u001b[38;5;124;03m    width.\"\"\"\u001b[39;00m\n\u001b[1;32m-> 4125\u001b[0m     Image\u001b[38;5;241m.\u001b[39m\u001b[38;5;21m__init__\u001b[39m(\u001b[38;5;28mself\u001b[39m, \u001b[38;5;124m'\u001b[39m\u001b[38;5;124mphoto\u001b[39m\u001b[38;5;124m'\u001b[39m, name, cnf, master, \u001b[38;5;241m*\u001b[39m\u001b[38;5;241m*\u001b[39mkw)\n",
      "File \u001b[1;32m~\\anaconda3\\Lib\\tkinter\\__init__.py:4072\u001b[0m, in \u001b[0;36mImage.__init__\u001b[1;34m(self, imgtype, name, cnf, master, **kw)\u001b[0m\n\u001b[0;32m   4070\u001b[0m \u001b[38;5;28;01mfor\u001b[39;00m k, v \u001b[38;5;129;01min\u001b[39;00m cnf\u001b[38;5;241m.\u001b[39mitems():\n\u001b[0;32m   4071\u001b[0m     options \u001b[38;5;241m=\u001b[39m options \u001b[38;5;241m+\u001b[39m (\u001b[38;5;124m'\u001b[39m\u001b[38;5;124m-\u001b[39m\u001b[38;5;124m'\u001b[39m\u001b[38;5;241m+\u001b[39mk, v)\n\u001b[1;32m-> 4072\u001b[0m \u001b[38;5;28mself\u001b[39m\u001b[38;5;241m.\u001b[39mtk\u001b[38;5;241m.\u001b[39mcall((\u001b[38;5;124m'\u001b[39m\u001b[38;5;124mimage\u001b[39m\u001b[38;5;124m'\u001b[39m, \u001b[38;5;124m'\u001b[39m\u001b[38;5;124mcreate\u001b[39m\u001b[38;5;124m'\u001b[39m, imgtype, name,) \u001b[38;5;241m+\u001b[39m options)\n\u001b[0;32m   4073\u001b[0m \u001b[38;5;28mself\u001b[39m\u001b[38;5;241m.\u001b[39mname \u001b[38;5;241m=\u001b[39m name\n",
      "\u001b[1;31mTclError\u001b[0m: couldn't open \"C:\\Users\\LICT\\Today\\Age Calculator App\\Age calculator.png\": no such file or directory"
     ]
    }
   ],
   "source": [
    "import os\n",
    "from tkinter import *\n",
    "from datetime import date\n",
    "\n",
    "script_directory = r\"C:\\Users\\LICT\\Today\"\n",
    "image_path = os.path.join(script_directory, \"Age Calculator App\", \"Age calculator.png\")\n",
    "\n",
    "root = Tk()  # Corrected the typo here\n",
    "root.geometry(\"800x600\")\n",
    "root.resizable(False, False)\n",
    "root.title(\"Age calculator\")\n",
    "\n",
    "photo = PhotoImage(file=image_path)\n",
    "myimage = Label(image=photo)\n",
    "myimage.pack(padx=15, pady=15)\n",
    "\n",
    "def calculateAge():\n",
    "    today = date.today()\n",
    "    birthDate = date(int(yearEntry.get()), int(monthEntry.get()), int(dayEntry.get()))\n",
    "    age = today.year - birthDate.year - ((today.month, today.day) < (birthDate.month, birthDate.day))\n",
    "    Label(text=f\"{nameValue.get()} your age is {age}\", font=30).place(x=300, y=500)\n",
    "\n",
    "Label(text=\"Name\", font=23).place(x=200, y=250)\n",
    "Label(text=\"Year\", font=23).place(x=200, y=300)\n",
    "Label(text=\"Month\", font=23).place(x=200, y=350)\n",
    "Label(text=\"Day\", font=23).place(x=200, y=400)\n",
    "\n",
    "nameValue = StringVar()\n",
    "yearValue = StringVar()\n",
    "monthValue = StringVar()\n",
    "dayValue = StringVar()\n",
    "\n",
    "nameEntry = Entry(root, textvariable=nameValue, width=30, bd=3, font=20)\n",
    "nameEntry.place(x=300, y=250)\n",
    "\n",
    "yearEntry = Entry(root, textvariable=yearValue, width=30, bd=3, font=20)\n",
    "yearEntry.place(x=300, y=300)  # Corrected the y-coordinate here\n",
    "\n",
    "monthEntry = Entry(root, textvariable=monthValue, width=30, bd=3, font=20)\n",
    "monthEntry.place(x=300, y=350)  # Corrected the y-coordinate here\n",
    "\n",
    "dayEntry = Entry(root, textvariable=dayValue, width=30, bd=3, font=20)  # Corrected the variable name here\n",
    "dayEntry.place(x=300, y=400)\n",
    "\n",
    "Button(text=\"Calculate Age\", font=20, bg=\"black\", fg=\"white\", width=11, height=2, command=calculateAge).place(x=300, y=450)\n",
    "\n",
    "root.mainloop()\n"
   ]
  },
  {
   "cell_type": "code",
   "execution_count": 13,
   "id": "6f9d01df",
   "metadata": {},
   "outputs": [
    {
     "name": "stdout",
     "output_type": "stream",
     "text": [
      "Current working directory: C:\\Users\\LICT\n"
     ]
    }
   ],
   "source": [
    "import os\n",
    "\n",
    "current_directory = os.getcwd()\n",
    "print(\"Current working directory:\", current_directory)\n"
   ]
  },
  {
   "cell_type": "code",
   "execution_count": null,
   "id": "1e409b61",
   "metadata": {},
   "outputs": [],
   "source": []
  }
 ],
 "metadata": {
  "kernelspec": {
   "display_name": "Python 3 (ipykernel)",
   "language": "python",
   "name": "python3"
  },
  "language_info": {
   "codemirror_mode": {
    "name": "ipython",
    "version": 3
   },
   "file_extension": ".py",
   "mimetype": "text/x-python",
   "name": "python",
   "nbconvert_exporter": "python",
   "pygments_lexer": "ipython3",
   "version": "3.11.5"
  }
 },
 "nbformat": 4,
 "nbformat_minor": 5
}
