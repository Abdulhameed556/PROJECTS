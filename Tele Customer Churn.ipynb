{
 "cells": [
  {
   "cell_type": "markdown",
   "id": "10ee2f82",
   "metadata": {},
   "source": [
    "# DATA PREPARATION"
   ]
  },
  {
   "cell_type": "code",
   "execution_count": 11,
   "id": "0cd840a4",
   "metadata": {},
   "outputs": [],
   "source": [
    "import numpy as np\n",
    "import pandas as pd\n",
    "import matplotlib as plt"
   ]
  },
  {
   "cell_type": "code",
   "execution_count": 12,
   "id": "fa961dcd",
   "metadata": {
    "scrolled": true
   },
   "outputs": [],
   "source": [
    "data= pd.read_csv(\"C:/Users/LICT/Downloads/archive/WA_Fn-UseC_-Telco-Customer-Churn.csv\")"
   ]
  },
  {
   "cell_type": "code",
   "execution_count": 13,
   "id": "50af0a19",
   "metadata": {
    "scrolled": true
   },
   "outputs": [
    {
     "data": {
      "text/plain": [
       "customerID       0\n",
       "gender           0\n",
       "SeniorCitizen    0\n",
       "Partner          0\n",
       "Dependents       0\n",
       "dtype: int64"
      ]
     },
     "execution_count": 13,
     "metadata": {},
     "output_type": "execute_result"
    }
   ],
   "source": [
    "#Check for missing value\n",
    "missing_values = data.isnull().sum()\n",
    "missing_values.head()"
   ]
  },
  {
   "cell_type": "code",
   "execution_count": 14,
   "id": "63c8b526",
   "metadata": {},
   "outputs": [
    {
     "name": "stdout",
     "output_type": "stream",
     "text": [
      "customerID          0\n",
      "gender              0\n",
      "SeniorCitizen       0\n",
      "Partner             0\n",
      "Dependents          0\n",
      "tenure              0\n",
      "PhoneService        0\n",
      "MultipleLines       0\n",
      "InternetService     0\n",
      "OnlineSecurity      0\n",
      "OnlineBackup        0\n",
      "DeviceProtection    0\n",
      "TechSupport         0\n",
      "StreamingTV         0\n",
      "StreamingMovies     0\n",
      "Contract            0\n",
      "PaperlessBilling    0\n",
      "PaymentMethod       0\n",
      "MonthlyCharges      0\n",
      "TotalCharges        0\n",
      "Churn               0\n",
      "dtype: int64\n"
     ]
    }
   ],
   "source": [
    "print(missing_values)"
   ]
  },
  {
   "cell_type": "code",
   "execution_count": 15,
   "id": "a077a02b",
   "metadata": {},
   "outputs": [
    {
     "name": "stdout",
     "output_type": "stream",
     "text": [
      "0\n"
     ]
    }
   ],
   "source": [
    "print(data['TotalCharges'].isnull().sum())"
   ]
  },
  {
   "cell_type": "code",
   "execution_count": 16,
   "id": "1e5321f3",
   "metadata": {},
   "outputs": [
    {
     "name": "stdout",
     "output_type": "stream",
     "text": [
      "['29.85' '1889.5' '108.15' ... '346.45' '306.6' '6844.5']\n"
     ]
    }
   ],
   "source": [
    "print(data['TotalCharges'].unique())\n"
   ]
  },
  {
   "cell_type": "code",
   "execution_count": 17,
   "id": "1dfb0a8b",
   "metadata": {},
   "outputs": [
    {
     "name": "stdout",
     "output_type": "stream",
     "text": [
      "      customerID  gender  SeniorCitizen Partner Dependents  tenure  \\\n",
      "488   4472-LVYGI  Female              0     Yes        Yes       0   \n",
      "753   3115-CZMZD    Male              0      No        Yes       0   \n",
      "936   5709-LVOEQ  Female              0     Yes        Yes       0   \n",
      "1082  4367-NUYAO    Male              0     Yes        Yes       0   \n",
      "1340  1371-DWPAZ  Female              0     Yes        Yes       0   \n",
      "3331  7644-OMVMY    Male              0     Yes        Yes       0   \n",
      "3826  3213-VVOLG    Male              0     Yes        Yes       0   \n",
      "4380  2520-SGTTA  Female              0     Yes        Yes       0   \n",
      "5218  2923-ARZLG    Male              0     Yes        Yes       0   \n",
      "6670  4075-WKNIU  Female              0     Yes        Yes       0   \n",
      "6754  2775-SEFEE    Male              0      No        Yes       0   \n",
      "\n",
      "     PhoneService     MultipleLines InternetService       OnlineSecurity  ...  \\\n",
      "488            No  No phone service             DSL                  Yes  ...   \n",
      "753           Yes                No              No  No internet service  ...   \n",
      "936           Yes                No             DSL                  Yes  ...   \n",
      "1082          Yes               Yes              No  No internet service  ...   \n",
      "1340           No  No phone service             DSL                  Yes  ...   \n",
      "3331          Yes                No              No  No internet service  ...   \n",
      "3826          Yes               Yes              No  No internet service  ...   \n",
      "4380          Yes                No              No  No internet service  ...   \n",
      "5218          Yes                No              No  No internet service  ...   \n",
      "6670          Yes               Yes             DSL                   No  ...   \n",
      "6754          Yes               Yes             DSL                  Yes  ...   \n",
      "\n",
      "         DeviceProtection          TechSupport          StreamingTV  \\\n",
      "488                   Yes                  Yes                  Yes   \n",
      "753   No internet service  No internet service  No internet service   \n",
      "936                   Yes                   No                  Yes   \n",
      "1082  No internet service  No internet service  No internet service   \n",
      "1340                  Yes                  Yes                  Yes   \n",
      "3331  No internet service  No internet service  No internet service   \n",
      "3826  No internet service  No internet service  No internet service   \n",
      "4380  No internet service  No internet service  No internet service   \n",
      "5218  No internet service  No internet service  No internet service   \n",
      "6670                  Yes                  Yes                  Yes   \n",
      "6754                   No                  Yes                   No   \n",
      "\n",
      "          StreamingMovies  Contract PaperlessBilling  \\\n",
      "488                    No  Two year              Yes   \n",
      "753   No internet service  Two year               No   \n",
      "936                   Yes  Two year               No   \n",
      "1082  No internet service  Two year               No   \n",
      "1340                   No  Two year               No   \n",
      "3331  No internet service  Two year               No   \n",
      "3826  No internet service  Two year               No   \n",
      "4380  No internet service  Two year               No   \n",
      "5218  No internet service  One year              Yes   \n",
      "6670                   No  Two year               No   \n",
      "6754                   No  Two year              Yes   \n",
      "\n",
      "                  PaymentMethod MonthlyCharges  TotalCharges Churn  \n",
      "488   Bank transfer (automatic)          52.55                  No  \n",
      "753                Mailed check          20.25                  No  \n",
      "936                Mailed check          80.85                  No  \n",
      "1082               Mailed check          25.75                  No  \n",
      "1340    Credit card (automatic)          56.05                  No  \n",
      "3331               Mailed check          19.85                  No  \n",
      "3826               Mailed check          25.35                  No  \n",
      "4380               Mailed check          20.00                  No  \n",
      "5218               Mailed check          19.70                  No  \n",
      "6670               Mailed check          73.35                  No  \n",
      "6754  Bank transfer (automatic)          61.90                  No  \n",
      "\n",
      "[11 rows x 21 columns]\n"
     ]
    }
   ],
   "source": [
    "# Identify rows with non-numeric or blank entries in 'TotalCharges'\n",
    "non_numeric_rows = data[data['TotalCharges'].str.strip() == '']\n",
    "print(non_numeric_rows)\n"
   ]
  },
  {
   "cell_type": "markdown",
   "id": "be1683da",
   "metadata": {},
   "source": [
    "This shows the TotalCharges rows which are empty and not showing NAN probably because they are stored as String\n"
   ]
  },
  {
   "cell_type": "code",
   "execution_count": 18,
   "id": "1ceff080",
   "metadata": {},
   "outputs": [
    {
     "ename": "ValueError",
     "evalue": "Unable to parse string \" \" at position 488",
     "output_type": "error",
     "traceback": [
      "\u001b[1;31m---------------------------------------------------------------------------\u001b[0m",
      "\u001b[1;31mValueError\u001b[0m                                Traceback (most recent call last)",
      "File \u001b[1;32m~\\anaconda3\\Lib\\site-packages\\pandas\\_libs\\lib.pyx:2280\u001b[0m, in \u001b[0;36mpandas._libs.lib.maybe_convert_numeric\u001b[1;34m()\u001b[0m\n",
      "\u001b[1;31mValueError\u001b[0m: Unable to parse string \" \"",
      "\nDuring handling of the above exception, another exception occurred:\n",
      "\u001b[1;31mValueError\u001b[0m                                Traceback (most recent call last)",
      "Cell \u001b[1;32mIn[18], line 2\u001b[0m\n\u001b[0;32m      1\u001b[0m data[\u001b[38;5;124m'\u001b[39m\u001b[38;5;124mTotalCharges\u001b[39m\u001b[38;5;124m'\u001b[39m] \u001b[38;5;241m=\u001b[39m data[\u001b[38;5;124m'\u001b[39m\u001b[38;5;124mTotalCharges\u001b[39m\u001b[38;5;124m'\u001b[39m]\u001b[38;5;241m.\u001b[39mreplace(\u001b[38;5;124m'\u001b[39m\u001b[38;5;124m'\u001b[39m, \u001b[38;5;124m'\u001b[39m\u001b[38;5;124m0\u001b[39m\u001b[38;5;124m'\u001b[39m)\n\u001b[1;32m----> 2\u001b[0m data[\u001b[38;5;124m'\u001b[39m\u001b[38;5;124mTotalCharges\u001b[39m\u001b[38;5;124m'\u001b[39m] \u001b[38;5;241m=\u001b[39m pd\u001b[38;5;241m.\u001b[39mto_numeric(data[\u001b[38;5;124m'\u001b[39m\u001b[38;5;124mTotalCharges\u001b[39m\u001b[38;5;124m'\u001b[39m])\n",
      "File \u001b[1;32m~\\anaconda3\\Lib\\site-packages\\pandas\\core\\tools\\numeric.py:217\u001b[0m, in \u001b[0;36mto_numeric\u001b[1;34m(arg, errors, downcast, dtype_backend)\u001b[0m\n\u001b[0;32m    215\u001b[0m coerce_numeric \u001b[38;5;241m=\u001b[39m errors \u001b[38;5;129;01mnot\u001b[39;00m \u001b[38;5;129;01min\u001b[39;00m (\u001b[38;5;124m\"\u001b[39m\u001b[38;5;124mignore\u001b[39m\u001b[38;5;124m\"\u001b[39m, \u001b[38;5;124m\"\u001b[39m\u001b[38;5;124mraise\u001b[39m\u001b[38;5;124m\"\u001b[39m)\n\u001b[0;32m    216\u001b[0m \u001b[38;5;28;01mtry\u001b[39;00m:\n\u001b[1;32m--> 217\u001b[0m     values, new_mask \u001b[38;5;241m=\u001b[39m lib\u001b[38;5;241m.\u001b[39mmaybe_convert_numeric(  \u001b[38;5;66;03m# type: ignore[call-overload]  # noqa\u001b[39;00m\n\u001b[0;32m    218\u001b[0m         values,\n\u001b[0;32m    219\u001b[0m         \u001b[38;5;28mset\u001b[39m(),\n\u001b[0;32m    220\u001b[0m         coerce_numeric\u001b[38;5;241m=\u001b[39mcoerce_numeric,\n\u001b[0;32m    221\u001b[0m         convert_to_masked_nullable\u001b[38;5;241m=\u001b[39mdtype_backend \u001b[38;5;129;01mis\u001b[39;00m \u001b[38;5;129;01mnot\u001b[39;00m lib\u001b[38;5;241m.\u001b[39mno_default\n\u001b[0;32m    222\u001b[0m         \u001b[38;5;129;01mor\u001b[39;00m \u001b[38;5;28misinstance\u001b[39m(values_dtype, StringDtype),\n\u001b[0;32m    223\u001b[0m     )\n\u001b[0;32m    224\u001b[0m \u001b[38;5;28;01mexcept\u001b[39;00m (\u001b[38;5;167;01mValueError\u001b[39;00m, \u001b[38;5;167;01mTypeError\u001b[39;00m):\n\u001b[0;32m    225\u001b[0m     \u001b[38;5;28;01mif\u001b[39;00m errors \u001b[38;5;241m==\u001b[39m \u001b[38;5;124m\"\u001b[39m\u001b[38;5;124mraise\u001b[39m\u001b[38;5;124m\"\u001b[39m:\n",
      "File \u001b[1;32m~\\anaconda3\\Lib\\site-packages\\pandas\\_libs\\lib.pyx:2322\u001b[0m, in \u001b[0;36mpandas._libs.lib.maybe_convert_numeric\u001b[1;34m()\u001b[0m\n",
      "\u001b[1;31mValueError\u001b[0m: Unable to parse string \" \" at position 488"
     ]
    }
   ],
   "source": [
    "data['TotalCharges'] = data['TotalCharges'].replace('', '0')\n",
    "data['TotalCharges'] = pd.to_numeric(data['TotalCharges'])"
   ]
  },
  {
   "cell_type": "markdown",
   "id": "0a831542",
   "metadata": {},
   "source": [
    "The error indicates that there are blank or whitespace strings in the TotalCharges column, which can't be converted directly to numeric. Here's how you can fix this issue:"
   ]
  },
  {
   "cell_type": "code",
   "execution_count": 19,
   "id": "0f075bf9",
   "metadata": {},
   "outputs": [],
   "source": [
    "# Replace blank or whitespace strings with '0'\n",
    "data['TotalCharges'] = data['TotalCharges'].str.strip().replace('', '0')\n",
    "data['TotalCharges'] = pd.to_numeric(data['TotalCharges'])"
   ]
  },
  {
   "cell_type": "code",
   "execution_count": 20,
   "id": "ce551998",
   "metadata": {},
   "outputs": [
    {
     "data": {
      "text/plain": [
       "customerID       0\n",
       "gender           0\n",
       "SeniorCitizen    0\n",
       "Partner          0\n",
       "Dependents       0\n",
       "dtype: int64"
      ]
     },
     "execution_count": 20,
     "metadata": {},
     "output_type": "execute_result"
    }
   ],
   "source": [
    "missing_values = data.isnull().sum()\n",
    "missing_values.head()"
   ]
  },
  {
   "cell_type": "code",
   "execution_count": 21,
   "id": "6ba0c4e5",
   "metadata": {},
   "outputs": [],
   "source": [
    "# Convert 'TotalCharges' to string type\n",
    "data['TotalCharges']=data['TotalCharges'].astype(str)"
   ]
  },
  {
   "cell_type": "code",
   "execution_count": 22,
   "id": "492db893",
   "metadata": {},
   "outputs": [
    {
     "data": {
      "text/plain": [
       "0"
      ]
     },
     "execution_count": 22,
     "metadata": {},
     "output_type": "execute_result"
    }
   ],
   "source": [
    "# Check for remaining leading/trailing spaces in 'TotalCharges'\n",
    "data['TotalCharges'].str.contains('^ | $').sum()\n"
   ]
  },
  {
   "cell_type": "code",
   "execution_count": 23,
   "id": "015d8f5d",
   "metadata": {},
   "outputs": [],
   "source": [
    "# Strip leading/trailing spaces\n",
    "data['TotalCharges'] = data['TotalCharges'].str.strip()\n"
   ]
  },
  {
   "cell_type": "code",
   "execution_count": 24,
   "id": "1afcea82",
   "metadata": {},
   "outputs": [
    {
     "name": "stdout",
     "output_type": "stream",
     "text": [
      "Number of empty strings: 0\n"
     ]
    }
   ],
   "source": [
    "empty_strings_count = (data['TotalCharges'] == '').sum()\n",
    "print(f\"Number of empty strings: {empty_strings_count}\")"
   ]
  },
  {
   "cell_type": "code",
   "execution_count": 25,
   "id": "33157bee",
   "metadata": {},
   "outputs": [
    {
     "name": "stdout",
     "output_type": "stream",
     "text": [
      "Number of NaN values: 0\n"
     ]
    }
   ],
   "source": [
    "#Check for NaN values\n",
    "nan_count = data['TotalCharges'].isnull().sum()\n",
    "print(f\"Number of NaN values: {nan_count}\")"
   ]
  },
  {
   "cell_type": "code",
   "execution_count": 26,
   "id": "8ca0f0b6",
   "metadata": {},
   "outputs": [],
   "source": [
    "# Convert 'TotalCharges' to numeric (float)\n",
    "data['TotalCharges'] = pd.to_numeric(data['TotalCharges'], errors='coerce')\n",
    "\n",
    "# Convert 'MonthlyCharges' to float (if necessary)\n",
    "data['MonthlyCharges'] = data['MonthlyCharges'].astype(float)\n",
    "\n",
    "# Convert 'tenure' to integer (if necessary)\n",
    "data['tenure'] = data['tenure'].astype(int)"
   ]
  },
  {
   "cell_type": "code",
   "execution_count": 27,
   "id": "4d064129",
   "metadata": {},
   "outputs": [],
   "source": [
    "data.columns = data.columns.str.strip()\n"
   ]
  },
  {
   "cell_type": "markdown",
   "id": "860b9df9",
   "metadata": {},
   "source": [
    "# Encoding Categorical Variables"
   ]
  },
  {
   "cell_type": "markdown",
   "id": "50631cdf",
   "metadata": {},
   "source": [
    "We need to convert categorical columns into numerical values. You can use **Label Encoding** for binary categories (e.g., gender, SeniorCitizen) and **One-Hot Encoding** for non-binary categories (e.g., InternetService, Contract)."
   ]
  },
  {
   "cell_type": "markdown",
   "id": "e3d0a7b6",
   "metadata": {},
   "source": [
    "**Label Encoding**"
   ]
  },
  {
   "cell_type": "code",
   "execution_count": 28,
   "id": "865490d0",
   "metadata": {
    "scrolled": true
   },
   "outputs": [],
   "source": [
    "from sklearn.preprocessing import LabelEncoder\n",
    "\n",
    "#Initiate LabelEncoder\n",
    "label_encoder = LabelEncoder()\n",
    "\n",
    "#Encoding Binary Categorical Variables\n",
    "data['gender'] = label_encoder.fit_transform(data['gender'])\n",
    "data['SeniorCitizen'] = label_encoder.fit_transform(data['SeniorCitizen'].astype(str))  # Convert 'Yes'/'No' to 1/0\n"
   ]
  },
  {
   "cell_type": "markdown",
   "id": "86593344",
   "metadata": {},
   "source": [
    "**One-Hot Encoding**"
   ]
  },
  {
   "cell_type": "markdown",
   "id": "c66a8031",
   "metadata": {},
   "source": [
    "For non-binary categories (e.g., InternetService, Contract), we use One-Hot Encoding to create binary columns for each category."
   ]
  },
  {
   "cell_type": "code",
   "execution_count": 29,
   "id": "5a58a2bc",
   "metadata": {},
   "outputs": [],
   "source": [
    "# One-hot encoding for non-binary categorical variables\n",
    "data = pd.get_dummies(data, columns=['InternetService', 'Contract', 'PaymentMethod', 'TechSupport', 'StreamingTV'], drop_first=True)"
   ]
  },
  {
   "cell_type": "markdown",
   "id": "6f1d8561",
   "metadata": {},
   "source": [
    "The **drop_first=True**, argument is used to avoid multicollinearity (by removing one of the categories)\n",
    "\n",
    "**pandas.get_dummies** is a function in pandas used to perform One-Hot Encoding on categorical variables."
   ]
  },
  {
   "cell_type": "code",
   "execution_count": 30,
   "id": "d0033dce",
   "metadata": {},
   "outputs": [],
   "source": [
    "from sklearn.preprocessing import StandardScaler\n",
    "\n",
    "#Initiate Standard Scaler\n",
    "scaler = StandardScaler()\n",
    "\n",
    "#Scale numeric columns\n",
    "data[['tenure', 'MonthlyCharges', 'TotalCharges']] = scaler.fit_transform(data[['tenure', 'MonthlyCharges', 'TotalCharges']])\n"
   ]
  },
  {
   "cell_type": "code",
   "execution_count": 31,
   "id": "ae7a5550",
   "metadata": {
    "scrolled": true
   },
   "outputs": [
    {
     "data": {
      "text/html": [
       "<div>\n",
       "<style scoped>\n",
       "    .dataframe tbody tr th:only-of-type {\n",
       "        vertical-align: middle;\n",
       "    }\n",
       "\n",
       "    .dataframe tbody tr th {\n",
       "        vertical-align: top;\n",
       "    }\n",
       "\n",
       "    .dataframe thead th {\n",
       "        text-align: right;\n",
       "    }\n",
       "</style>\n",
       "<table border=\"1\" class=\"dataframe\">\n",
       "  <thead>\n",
       "    <tr style=\"text-align: right;\">\n",
       "      <th></th>\n",
       "      <th>customerID</th>\n",
       "      <th>gender</th>\n",
       "      <th>SeniorCitizen</th>\n",
       "      <th>Partner</th>\n",
       "      <th>Dependents</th>\n",
       "      <th>tenure</th>\n",
       "      <th>PhoneService</th>\n",
       "      <th>MultipleLines</th>\n",
       "      <th>OnlineSecurity</th>\n",
       "      <th>OnlineBackup</th>\n",
       "      <th>...</th>\n",
       "      <th>InternetService_No</th>\n",
       "      <th>Contract_One year</th>\n",
       "      <th>Contract_Two year</th>\n",
       "      <th>PaymentMethod_Credit card (automatic)</th>\n",
       "      <th>PaymentMethod_Electronic check</th>\n",
       "      <th>PaymentMethod_Mailed check</th>\n",
       "      <th>TechSupport_No internet service</th>\n",
       "      <th>TechSupport_Yes</th>\n",
       "      <th>StreamingTV_No internet service</th>\n",
       "      <th>StreamingTV_Yes</th>\n",
       "    </tr>\n",
       "  </thead>\n",
       "  <tbody>\n",
       "    <tr>\n",
       "      <th>0</th>\n",
       "      <td>7590-VHVEG</td>\n",
       "      <td>0</td>\n",
       "      <td>0</td>\n",
       "      <td>Yes</td>\n",
       "      <td>No</td>\n",
       "      <td>-1.277445</td>\n",
       "      <td>No</td>\n",
       "      <td>No phone service</td>\n",
       "      <td>No</td>\n",
       "      <td>Yes</td>\n",
       "      <td>...</td>\n",
       "      <td>False</td>\n",
       "      <td>False</td>\n",
       "      <td>False</td>\n",
       "      <td>False</td>\n",
       "      <td>True</td>\n",
       "      <td>False</td>\n",
       "      <td>False</td>\n",
       "      <td>False</td>\n",
       "      <td>False</td>\n",
       "      <td>False</td>\n",
       "    </tr>\n",
       "    <tr>\n",
       "      <th>1</th>\n",
       "      <td>5575-GNVDE</td>\n",
       "      <td>1</td>\n",
       "      <td>0</td>\n",
       "      <td>No</td>\n",
       "      <td>No</td>\n",
       "      <td>0.066327</td>\n",
       "      <td>Yes</td>\n",
       "      <td>No</td>\n",
       "      <td>Yes</td>\n",
       "      <td>No</td>\n",
       "      <td>...</td>\n",
       "      <td>False</td>\n",
       "      <td>True</td>\n",
       "      <td>False</td>\n",
       "      <td>False</td>\n",
       "      <td>False</td>\n",
       "      <td>True</td>\n",
       "      <td>False</td>\n",
       "      <td>False</td>\n",
       "      <td>False</td>\n",
       "      <td>False</td>\n",
       "    </tr>\n",
       "    <tr>\n",
       "      <th>2</th>\n",
       "      <td>3668-QPYBK</td>\n",
       "      <td>1</td>\n",
       "      <td>0</td>\n",
       "      <td>No</td>\n",
       "      <td>No</td>\n",
       "      <td>-1.236724</td>\n",
       "      <td>Yes</td>\n",
       "      <td>No</td>\n",
       "      <td>Yes</td>\n",
       "      <td>Yes</td>\n",
       "      <td>...</td>\n",
       "      <td>False</td>\n",
       "      <td>False</td>\n",
       "      <td>False</td>\n",
       "      <td>False</td>\n",
       "      <td>False</td>\n",
       "      <td>True</td>\n",
       "      <td>False</td>\n",
       "      <td>False</td>\n",
       "      <td>False</td>\n",
       "      <td>False</td>\n",
       "    </tr>\n",
       "    <tr>\n",
       "      <th>3</th>\n",
       "      <td>7795-CFOCW</td>\n",
       "      <td>1</td>\n",
       "      <td>0</td>\n",
       "      <td>No</td>\n",
       "      <td>No</td>\n",
       "      <td>0.514251</td>\n",
       "      <td>No</td>\n",
       "      <td>No phone service</td>\n",
       "      <td>Yes</td>\n",
       "      <td>No</td>\n",
       "      <td>...</td>\n",
       "      <td>False</td>\n",
       "      <td>True</td>\n",
       "      <td>False</td>\n",
       "      <td>False</td>\n",
       "      <td>False</td>\n",
       "      <td>False</td>\n",
       "      <td>False</td>\n",
       "      <td>True</td>\n",
       "      <td>False</td>\n",
       "      <td>False</td>\n",
       "    </tr>\n",
       "    <tr>\n",
       "      <th>4</th>\n",
       "      <td>9237-HQITU</td>\n",
       "      <td>0</td>\n",
       "      <td>0</td>\n",
       "      <td>No</td>\n",
       "      <td>No</td>\n",
       "      <td>-1.236724</td>\n",
       "      <td>Yes</td>\n",
       "      <td>No</td>\n",
       "      <td>No</td>\n",
       "      <td>No</td>\n",
       "      <td>...</td>\n",
       "      <td>False</td>\n",
       "      <td>False</td>\n",
       "      <td>False</td>\n",
       "      <td>False</td>\n",
       "      <td>True</td>\n",
       "      <td>False</td>\n",
       "      <td>False</td>\n",
       "      <td>False</td>\n",
       "      <td>False</td>\n",
       "      <td>False</td>\n",
       "    </tr>\n",
       "    <tr>\n",
       "      <th>5</th>\n",
       "      <td>9305-CDSKC</td>\n",
       "      <td>0</td>\n",
       "      <td>0</td>\n",
       "      <td>No</td>\n",
       "      <td>No</td>\n",
       "      <td>-0.992402</td>\n",
       "      <td>Yes</td>\n",
       "      <td>Yes</td>\n",
       "      <td>No</td>\n",
       "      <td>No</td>\n",
       "      <td>...</td>\n",
       "      <td>False</td>\n",
       "      <td>False</td>\n",
       "      <td>False</td>\n",
       "      <td>False</td>\n",
       "      <td>True</td>\n",
       "      <td>False</td>\n",
       "      <td>False</td>\n",
       "      <td>False</td>\n",
       "      <td>False</td>\n",
       "      <td>True</td>\n",
       "    </tr>\n",
       "    <tr>\n",
       "      <th>6</th>\n",
       "      <td>1452-KIOVK</td>\n",
       "      <td>1</td>\n",
       "      <td>0</td>\n",
       "      <td>No</td>\n",
       "      <td>Yes</td>\n",
       "      <td>-0.422317</td>\n",
       "      <td>Yes</td>\n",
       "      <td>Yes</td>\n",
       "      <td>No</td>\n",
       "      <td>Yes</td>\n",
       "      <td>...</td>\n",
       "      <td>False</td>\n",
       "      <td>False</td>\n",
       "      <td>False</td>\n",
       "      <td>True</td>\n",
       "      <td>False</td>\n",
       "      <td>False</td>\n",
       "      <td>False</td>\n",
       "      <td>False</td>\n",
       "      <td>False</td>\n",
       "      <td>True</td>\n",
       "    </tr>\n",
       "    <tr>\n",
       "      <th>7</th>\n",
       "      <td>6713-OKOMC</td>\n",
       "      <td>0</td>\n",
       "      <td>0</td>\n",
       "      <td>No</td>\n",
       "      <td>No</td>\n",
       "      <td>-0.910961</td>\n",
       "      <td>No</td>\n",
       "      <td>No phone service</td>\n",
       "      <td>Yes</td>\n",
       "      <td>No</td>\n",
       "      <td>...</td>\n",
       "      <td>False</td>\n",
       "      <td>False</td>\n",
       "      <td>False</td>\n",
       "      <td>False</td>\n",
       "      <td>False</td>\n",
       "      <td>True</td>\n",
       "      <td>False</td>\n",
       "      <td>False</td>\n",
       "      <td>False</td>\n",
       "      <td>False</td>\n",
       "    </tr>\n",
       "    <tr>\n",
       "      <th>8</th>\n",
       "      <td>7892-POOKP</td>\n",
       "      <td>0</td>\n",
       "      <td>0</td>\n",
       "      <td>Yes</td>\n",
       "      <td>No</td>\n",
       "      <td>-0.177995</td>\n",
       "      <td>Yes</td>\n",
       "      <td>Yes</td>\n",
       "      <td>No</td>\n",
       "      <td>No</td>\n",
       "      <td>...</td>\n",
       "      <td>False</td>\n",
       "      <td>False</td>\n",
       "      <td>False</td>\n",
       "      <td>False</td>\n",
       "      <td>True</td>\n",
       "      <td>False</td>\n",
       "      <td>False</td>\n",
       "      <td>True</td>\n",
       "      <td>False</td>\n",
       "      <td>True</td>\n",
       "    </tr>\n",
       "    <tr>\n",
       "      <th>9</th>\n",
       "      <td>6388-TABGU</td>\n",
       "      <td>1</td>\n",
       "      <td>0</td>\n",
       "      <td>No</td>\n",
       "      <td>Yes</td>\n",
       "      <td>1.206498</td>\n",
       "      <td>Yes</td>\n",
       "      <td>No</td>\n",
       "      <td>Yes</td>\n",
       "      <td>Yes</td>\n",
       "      <td>...</td>\n",
       "      <td>False</td>\n",
       "      <td>True</td>\n",
       "      <td>False</td>\n",
       "      <td>False</td>\n",
       "      <td>False</td>\n",
       "      <td>False</td>\n",
       "      <td>False</td>\n",
       "      <td>False</td>\n",
       "      <td>False</td>\n",
       "      <td>False</td>\n",
       "    </tr>\n",
       "  </tbody>\n",
       "</table>\n",
       "<p>10 rows × 27 columns</p>\n",
       "</div>"
      ],
      "text/plain": [
       "   customerID  gender  SeniorCitizen Partner Dependents    tenure  \\\n",
       "0  7590-VHVEG       0              0     Yes         No -1.277445   \n",
       "1  5575-GNVDE       1              0      No         No  0.066327   \n",
       "2  3668-QPYBK       1              0      No         No -1.236724   \n",
       "3  7795-CFOCW       1              0      No         No  0.514251   \n",
       "4  9237-HQITU       0              0      No         No -1.236724   \n",
       "5  9305-CDSKC       0              0      No         No -0.992402   \n",
       "6  1452-KIOVK       1              0      No        Yes -0.422317   \n",
       "7  6713-OKOMC       0              0      No         No -0.910961   \n",
       "8  7892-POOKP       0              0     Yes         No -0.177995   \n",
       "9  6388-TABGU       1              0      No        Yes  1.206498   \n",
       "\n",
       "  PhoneService     MultipleLines OnlineSecurity OnlineBackup  ...  \\\n",
       "0           No  No phone service             No          Yes  ...   \n",
       "1          Yes                No            Yes           No  ...   \n",
       "2          Yes                No            Yes          Yes  ...   \n",
       "3           No  No phone service            Yes           No  ...   \n",
       "4          Yes                No             No           No  ...   \n",
       "5          Yes               Yes             No           No  ...   \n",
       "6          Yes               Yes             No          Yes  ...   \n",
       "7           No  No phone service            Yes           No  ...   \n",
       "8          Yes               Yes             No           No  ...   \n",
       "9          Yes                No            Yes          Yes  ...   \n",
       "\n",
       "  InternetService_No Contract_One year Contract_Two year  \\\n",
       "0              False             False             False   \n",
       "1              False              True             False   \n",
       "2              False             False             False   \n",
       "3              False              True             False   \n",
       "4              False             False             False   \n",
       "5              False             False             False   \n",
       "6              False             False             False   \n",
       "7              False             False             False   \n",
       "8              False             False             False   \n",
       "9              False              True             False   \n",
       "\n",
       "   PaymentMethod_Credit card (automatic)  PaymentMethod_Electronic check  \\\n",
       "0                                  False                            True   \n",
       "1                                  False                           False   \n",
       "2                                  False                           False   \n",
       "3                                  False                           False   \n",
       "4                                  False                            True   \n",
       "5                                  False                            True   \n",
       "6                                   True                           False   \n",
       "7                                  False                           False   \n",
       "8                                  False                            True   \n",
       "9                                  False                           False   \n",
       "\n",
       "  PaymentMethod_Mailed check  TechSupport_No internet service  \\\n",
       "0                      False                            False   \n",
       "1                       True                            False   \n",
       "2                       True                            False   \n",
       "3                      False                            False   \n",
       "4                      False                            False   \n",
       "5                      False                            False   \n",
       "6                      False                            False   \n",
       "7                       True                            False   \n",
       "8                      False                            False   \n",
       "9                      False                            False   \n",
       "\n",
       "   TechSupport_Yes  StreamingTV_No internet service  StreamingTV_Yes  \n",
       "0            False                            False            False  \n",
       "1            False                            False            False  \n",
       "2            False                            False            False  \n",
       "3             True                            False            False  \n",
       "4            False                            False            False  \n",
       "5            False                            False             True  \n",
       "6            False                            False             True  \n",
       "7            False                            False            False  \n",
       "8             True                            False             True  \n",
       "9            False                            False            False  \n",
       "\n",
       "[10 rows x 27 columns]"
      ]
     },
     "execution_count": 31,
     "metadata": {},
     "output_type": "execute_result"
    }
   ],
   "source": [
    "data.head(10)"
   ]
  },
  {
   "cell_type": "code",
   "execution_count": 32,
   "id": "b6bdf52e",
   "metadata": {
    "scrolled": true
   },
   "outputs": [
    {
     "name": "stdout",
     "output_type": "stream",
     "text": [
      "   gender  SeniorCitizen  InternetService_Fiber optic  Contract_Two year\n",
      "0       0              0                        False              False\n",
      "1       1              0                        False              False\n",
      "2       1              0                        False              False\n",
      "3       1              0                        False              False\n",
      "4       0              0                         True              False\n"
     ]
    }
   ],
   "source": [
    "# Display the first 5 rows of the newly encoded data\n",
    "print(data[['gender', 'SeniorCitizen', 'InternetService_Fiber optic', 'Contract_Two year']].head())\n"
   ]
  },
  {
   "cell_type": "markdown",
   "id": "0c1c979b",
   "metadata": {},
   "source": [
    "# Exploratory Data Analysis (EDA)"
   ]
  },
  {
   "cell_type": "markdown",
   "id": "56374450",
   "metadata": {},
   "source": [
    "**Correlation Analysis**: A correlation heatmap helps identify relationships between numeric features and the target variable (Churn). Positive correlation values indicate a direct relationship, while negative values indicate an inverse relationship."
   ]
  },
  {
   "cell_type": "code",
   "execution_count": 33,
   "id": "965d1015",
   "metadata": {
    "scrolled": true
   },
   "outputs": [
    {
     "data": {
      "image/png": "[encoded data removed]",
      "text/plain": [
       "<Figure size 800x600 with 2 Axes>"
      ]
     },
     "metadata": {},
     "output_type": "display_data"
    }
   ],
   "source": [
    "import seaborn as sns\n",
    "import matplotlib.pyplot as plt\n",
    "\n",
    "# Calculate correlation matrix for numeric columns\n",
    "correlation_matrix = data[['tenure', 'MonthlyCharges', 'TotalCharges']].corr()\n",
    "\n",
    "# Plot the heatmap\n",
    "plt.figure(figsize=(8,6))\n",
    "sns.heatmap(correlation_matrix, annot=True, cmap='coolwarm', fmt='.2f')\n",
    "plt.title('Correlation Heatmap of Numeric Features')\n",
    "plt.show()"
   ]
  },
  {
   "cell_type": "markdown",
   "id": "5af67938",
   "metadata": {},
   "source": [
    "NB: If Churn is included as numeric (e.g., 0 for No, 1 for Yes), you can add it to the correlation matrix:\n",
    "\n",
    "correlation_matrix = data[['tenure', 'MonthlyCharges', 'TotalCharges', 'Churn']].corr()\n"
   ]
  },
  {
   "cell_type": "markdown",
   "id": "1bdfb39c",
   "metadata": {},
   "source": [
    "**VISUALIZATIONS**"
   ]
  },
  {
   "cell_type": "markdown",
   "id": "e851f3ad",
   "metadata": {},
   "source": [
    "**Bar Plots**: Bar plots can show the distribution of Churn across categorical features like Contract or PaymentMethod."
   ]
  },
  {
   "cell_type": "markdown",
   "id": "5e1afa1c",
   "metadata": {},
   "source": [
    "Since the Contract column is no longer in its original form, we can visualize the relationship using the one-hot encoded columns. Here's how:\n",
    "\n",
    "1. Aggregate the counts for each Contract category to plot their relationship with Churn."
   ]
  },
  {
   "cell_type": "code",
   "execution_count": 34,
   "id": "6359f1bc",
   "metadata": {},
   "outputs": [
    {
     "name": "stdout",
     "output_type": "stream",
     "text": [
      "   Contract_One year  Contract_Two year    No   Yes\n",
      "0              False              False  2220  1655\n",
      "1              False               True  1647    48\n",
      "2               True              False  1307   166\n"
     ]
    }
   ],
   "source": [
    "# Create a mapping of Contract categories\n",
    "contract_columns = ['Contract_One year', 'Contract_Two year']\n",
    "\n",
    "# Count churned and non-churned customers for each contract type\n",
    "contract_churn = data.groupby(contract_columns)['Churn'].value_counts().unstack()\n",
    "\n",
    "# Reformat for plotting\n",
    "contract_churn = contract_churn.reset_index()\n",
    "contract_churn.columns.name = None\n",
    "\n",
    "print(contract_churn)"
   ]
  },
  {
   "cell_type": "code",
   "execution_count": 35,
   "id": "0d054466",
   "metadata": {},
   "outputs": [
    {
     "data": {
      "image/png": "[encoded data removed]",
      "text/plain": [
       "<Figure size 800x600 with 1 Axes>"
      ]
     },
     "metadata": {},
     "output_type": "display_data"
    }
   ],
   "source": [
    "# Use the aggregated data for plotting\n",
    "contract_churn.set_index(['Contract_One year', 'Contract_Two year'])[['No', 'Yes']].plot(\n",
    "    kind='bar', stacked=True, figsize=(8, 6), color=['skyblue', 'salmon']\n",
    ")\n",
    "plt.title('Churn by Contract Type')\n",
    "plt.xlabel('Contract Type')\n",
    "plt.ylabel('Number of Customers')\n",
    "plt.xticks(ticks=[0, 1, 2], labels=['Month-to-Month', 'Two Year', 'One Year'], rotation=0)\n",
    "plt.legend(title='Churn', labels=['No', 'Yes'])\n",
    "plt.show()\n"
   ]
  },
  {
   "cell_type": "code",
   "execution_count": null,
   "id": "23e9f2ca",
   "metadata": {},
   "outputs": [],
   "source": []
  },
  {
   "cell_type": "code",
   "execution_count": 36,
   "id": "cd4293ee",
   "metadata": {
    "scrolled": true
   },
   "outputs": [
    {
     "data": {
      "image/png": "[encoded data removed]",
      "text/plain": [
       "<Figure size 800x600 with 1 Axes>"
      ]
     },
     "metadata": {},
     "output_type": "display_data"
    }
   ],
   "source": [
    "# Sum churned and non-churned values for each contract type\n",
    "contract_churn_plot = data.groupby(['Churn'])[['Contract_One year', 'Contract_Two year']].sum()\n",
    "\n",
    "# Plot the data\n",
    "contract_churn_plot.T.plot(kind='bar', stacked=True, figsize=(8, 6))\n",
    "plt.title('Churn by Contract Type')\n",
    "plt.xlabel('Contract Type')\n",
    "plt.ylabel('Count')\n",
    "plt.xticks(ticks=[0, 1], labels=['One Year', 'Two Years'], rotation=0)\n",
    "plt.legend(title='Churn', labels=['No', 'Yes'])\n",
    "plt.show()\n"
   ]
  },
  {
   "cell_type": "markdown",
   "id": "55b79189",
   "metadata": {},
   "source": [
    "**Alternative Approach (Categorical Grouping):** If you want to reverse the one-hot encoding to combine the categories for plotting:"
   ]
  },
  {
   "cell_type": "code",
   "execution_count": 37,
   "id": "416ea4dc",
   "metadata": {},
   "outputs": [
    {
     "data": {
      "image/png": "[encoded data removed]",
      "text/plain": [
       "<Figure size 640x480 with 1 Axes>"
      ]
     },
     "metadata": {},
     "output_type": "display_data"
    }
   ],
   "source": [
    "# Add a new column to recombine contract categories\n",
    "data['Contract_Type'] = data[['Contract_One year', 'Contract_Two year']].idxmax(axis=1)\n",
    "\n",
    "# Replace the binary names with readable labels\n",
    "data['Contract_Type'] = data['Contract_Type'].map({\n",
    "    'Contract_One year': 'One Year',\n",
    "    'Contract_Two year': 'Two Years'\n",
    "})\n",
    "\n",
    "# Plot using the new column\n",
    "sns.countplot(x='Contract_Type', hue='Churn', data=data)\n",
    "plt.title('Churn by Contract Type')\n",
    "plt.xlabel('Contract Type')\n",
    "plt.ylabel('Count')\n",
    "plt.show()\n"
   ]
  },
  {
   "cell_type": "markdown",
   "id": "e443d674",
   "metadata": {},
   "source": [
    "**Box Plots**"
   ]
  },
  {
   "cell_type": "markdown",
   "id": "f61a02ed",
   "metadata": {},
   "source": [
    "Box plots help compare the distribution of **numeric features** (tenure, MonthlyCharges, TotalCharges) across churn categories."
   ]
  },
  {
   "cell_type": "code",
   "execution_count": 38,
   "id": "cf6fb9cd",
   "metadata": {
    "scrolled": false
   },
   "outputs": [
    {
     "data": {
      "image/png": "[encoded data removed]",
      "text/plain": [
       "<Figure size 640x480 with 1 Axes>"
      ]
     },
     "metadata": {},
     "output_type": "display_data"
    },
    {
     "data": {
      "image/png": "[encoded data removed]",
      "text/plain": [
       "<Figure size 640x480 with 1 Axes>"
      ]
     },
     "metadata": {},
     "output_type": "display_data"
    }
   ],
   "source": [
    "# Box plot for MonthlyCharges by Churn\n",
    "sns.boxplot(x='Churn', y='MonthlyCharges', data=data)\n",
    "plt.title('Monthly Charges by Churn')\n",
    "plt.xlabel('Churn')\n",
    "plt.ylabel('Monthly Charges')\n",
    "plt.show()\n",
    "\n",
    "# Box plot for TotalCharges by Churn\n",
    "sns.boxplot(x='Churn', y='TotalCharges', data=data)\n",
    "plt.title('Total Charges by Churn')\n",
    "plt.xlabel('Churn')\n",
    "plt.ylabel('Total Charges')\n",
    "plt.show()\n",
    "\n",
    "\n"
   ]
  },
  {
   "cell_type": "markdown",
   "id": "ff3d21ca",
   "metadata": {},
   "source": [
    "**Histograms**"
   ]
  },
  {
   "cell_type": "markdown",
   "id": "76dc2c7e",
   "metadata": {},
   "source": [
    "Histograms show the distribution of numeric features (e.g., tenure) and can be split by churn categories."
   ]
  },
  {
   "cell_type": "code",
   "execution_count": 39,
   "id": "56f2d123",
   "metadata": {},
   "outputs": [
    {
     "data": {
      "image/png": "[encoded data removed]",
      "text/plain": [
       "<Figure size 640x480 with 1 Axes>"
      ]
     },
     "metadata": {},
     "output_type": "display_data"
    },
    {
     "data": {
      "image/png": "[encoded data removed]",
      "text/plain": [
       "<Figure size 640x480 with 1 Axes>"
      ]
     },
     "metadata": {},
     "output_type": "display_data"
    }
   ],
   "source": [
    "# Histogram for Tenure\n",
    "sns.histplot(data=data, x='tenure', hue='Churn', kde=True, bins=30)\n",
    "plt.title('Distribution of Tenure by Churn')\n",
    "plt.xlabel('Tenure')\n",
    "plt.ylabel('Frequency')\n",
    "plt.show()\n",
    "\n",
    "# Histogram for MonthlyCharges\n",
    "sns.histplot(data=data, x='MonthlyCharges', hue='Churn', kde=True, bins=30)\n",
    "plt.title('Distribution of Monthly Charges by Churn')\n",
    "plt.xlabel('Monthly Charges')\n",
    "plt.ylabel('Frequency')\n",
    "plt.show()\n"
   ]
  },
  {
   "cell_type": "markdown",
   "id": "5a850cee",
   "metadata": {},
   "source": [
    "# STATISTICAL TESTING"
   ]
  },
  {
   "cell_type": "markdown",
   "id": "57d87483",
   "metadata": {},
   "source": [
    "The Chi-Square test checks if there is a significant association between two categorical variables, such as Churn and InternetService."
   ]
  },
  {
   "cell_type": "code",
   "execution_count": 40,
   "id": "2f986083",
   "metadata": {},
   "outputs": [
    {
     "name": "stdout",
     "output_type": "stream",
     "text": [
      "Chi-Square Test Results:\n",
      "Chi-Square Statistic: 0.4840828822091383\n",
      "P-value: 0.48657873605618596\n",
      "Degrees of Freedom: 1\n",
      "There is no significant association between gender and Churn.\n"
     ]
    }
   ],
   "source": [
    "from scipy.stats import chi2_contingency\n",
    "\n",
    "# Example: Chi-Square test for gender and Churn\n",
    "contingency_table = pd.crosstab(data['gender'], data['Churn'])\n",
    "chi2, p, dof, expected = chi2_contingency(contingency_table)\n",
    "\n",
    "print(\"Chi-Square Test Results:\")\n",
    "print(f\"Chi-Square Statistic: {chi2}\")\n",
    "print(f\"P-value: {p}\")\n",
    "print(f\"Degrees of Freedom: {dof}\")\n",
    "if p < 0.05:\n",
    "    print(\"There is a significant association between gender and Churn.\")\n",
    "else:\n",
    "    print(\"There is no significant association between gender and Churn.\")\n"
   ]
  },
  {
   "cell_type": "code",
   "execution_count": 41,
   "id": "4da7954c",
   "metadata": {
    "scrolled": true
   },
   "outputs": [
    {
     "data": {
      "text/html": [
       "<div>\n",
       "<style scoped>\n",
       "    .dataframe tbody tr th:only-of-type {\n",
       "        vertical-align: middle;\n",
       "    }\n",
       "\n",
       "    .dataframe tbody tr th {\n",
       "        vertical-align: top;\n",
       "    }\n",
       "\n",
       "    .dataframe thead th {\n",
       "        text-align: right;\n",
       "    }\n",
       "</style>\n",
       "<table border=\"1\" class=\"dataframe\">\n",
       "  <thead>\n",
       "    <tr style=\"text-align: right;\">\n",
       "      <th></th>\n",
       "      <th>customerID</th>\n",
       "      <th>gender</th>\n",
       "      <th>SeniorCitizen</th>\n",
       "      <th>Partner</th>\n",
       "      <th>Dependents</th>\n",
       "      <th>tenure</th>\n",
       "      <th>PhoneService</th>\n",
       "      <th>MultipleLines</th>\n",
       "      <th>OnlineSecurity</th>\n",
       "      <th>OnlineBackup</th>\n",
       "      <th>...</th>\n",
       "      <th>Contract_One year</th>\n",
       "      <th>Contract_Two year</th>\n",
       "      <th>PaymentMethod_Credit card (automatic)</th>\n",
       "      <th>PaymentMethod_Electronic check</th>\n",
       "      <th>PaymentMethod_Mailed check</th>\n",
       "      <th>TechSupport_No internet service</th>\n",
       "      <th>TechSupport_Yes</th>\n",
       "      <th>StreamingTV_No internet service</th>\n",
       "      <th>StreamingTV_Yes</th>\n",
       "      <th>Contract_Type</th>\n",
       "    </tr>\n",
       "  </thead>\n",
       "  <tbody>\n",
       "    <tr>\n",
       "      <th>0</th>\n",
       "      <td>7590-VHVEG</td>\n",
       "      <td>0</td>\n",
       "      <td>0</td>\n",
       "      <td>Yes</td>\n",
       "      <td>No</td>\n",
       "      <td>-1.277445</td>\n",
       "      <td>No</td>\n",
       "      <td>No phone service</td>\n",
       "      <td>No</td>\n",
       "      <td>Yes</td>\n",
       "      <td>...</td>\n",
       "      <td>False</td>\n",
       "      <td>False</td>\n",
       "      <td>False</td>\n",
       "      <td>True</td>\n",
       "      <td>False</td>\n",
       "      <td>False</td>\n",
       "      <td>False</td>\n",
       "      <td>False</td>\n",
       "      <td>False</td>\n",
       "      <td>One Year</td>\n",
       "    </tr>\n",
       "    <tr>\n",
       "      <th>1</th>\n",
       "      <td>5575-GNVDE</td>\n",
       "      <td>1</td>\n",
       "      <td>0</td>\n",
       "      <td>No</td>\n",
       "      <td>No</td>\n",
       "      <td>0.066327</td>\n",
       "      <td>Yes</td>\n",
       "      <td>No</td>\n",
       "      <td>Yes</td>\n",
       "      <td>No</td>\n",
       "      <td>...</td>\n",
       "      <td>True</td>\n",
       "      <td>False</td>\n",
       "      <td>False</td>\n",
       "      <td>False</td>\n",
       "      <td>True</td>\n",
       "      <td>False</td>\n",
       "      <td>False</td>\n",
       "      <td>False</td>\n",
       "      <td>False</td>\n",
       "      <td>One Year</td>\n",
       "    </tr>\n",
       "    <tr>\n",
       "      <th>2</th>\n",
       "      <td>3668-QPYBK</td>\n",
       "      <td>1</td>\n",
       "      <td>0</td>\n",
       "      <td>No</td>\n",
       "      <td>No</td>\n",
       "      <td>-1.236724</td>\n",
       "      <td>Yes</td>\n",
       "      <td>No</td>\n",
       "      <td>Yes</td>\n",
       "      <td>Yes</td>\n",
       "      <td>...</td>\n",
       "      <td>False</td>\n",
       "      <td>False</td>\n",
       "      <td>False</td>\n",
       "      <td>False</td>\n",
       "      <td>True</td>\n",
       "      <td>False</td>\n",
       "      <td>False</td>\n",
       "      <td>False</td>\n",
       "      <td>False</td>\n",
       "      <td>One Year</td>\n",
       "    </tr>\n",
       "    <tr>\n",
       "      <th>3</th>\n",
       "      <td>7795-CFOCW</td>\n",
       "      <td>1</td>\n",
       "      <td>0</td>\n",
       "      <td>No</td>\n",
       "      <td>No</td>\n",
       "      <td>0.514251</td>\n",
       "      <td>No</td>\n",
       "      <td>No phone service</td>\n",
       "      <td>Yes</td>\n",
       "      <td>No</td>\n",
       "      <td>...</td>\n",
       "      <td>True</td>\n",
       "      <td>False</td>\n",
       "      <td>False</td>\n",
       "      <td>False</td>\n",
       "      <td>False</td>\n",
       "      <td>False</td>\n",
       "      <td>True</td>\n",
       "      <td>False</td>\n",
       "      <td>False</td>\n",
       "      <td>One Year</td>\n",
       "    </tr>\n",
       "    <tr>\n",
       "      <th>4</th>\n",
       "      <td>9237-HQITU</td>\n",
       "      <td>0</td>\n",
       "      <td>0</td>\n",
       "      <td>No</td>\n",
       "      <td>No</td>\n",
       "      <td>-1.236724</td>\n",
       "      <td>Yes</td>\n",
       "      <td>No</td>\n",
       "      <td>No</td>\n",
       "      <td>No</td>\n",
       "      <td>...</td>\n",
       "      <td>False</td>\n",
       "      <td>False</td>\n",
       "      <td>False</td>\n",
       "      <td>True</td>\n",
       "      <td>False</td>\n",
       "      <td>False</td>\n",
       "      <td>False</td>\n",
       "      <td>False</td>\n",
       "      <td>False</td>\n",
       "      <td>One Year</td>\n",
       "    </tr>\n",
       "  </tbody>\n",
       "</table>\n",
       "<p>5 rows × 28 columns</p>\n",
       "</div>"
      ],
      "text/plain": [
       "   customerID  gender  SeniorCitizen Partner Dependents    tenure  \\\n",
       "0  7590-VHVEG       0              0     Yes         No -1.277445   \n",
       "1  5575-GNVDE       1              0      No         No  0.066327   \n",
       "2  3668-QPYBK       1              0      No         No -1.236724   \n",
       "3  7795-CFOCW       1              0      No         No  0.514251   \n",
       "4  9237-HQITU       0              0      No         No -1.236724   \n",
       "\n",
       "  PhoneService     MultipleLines OnlineSecurity OnlineBackup  ...  \\\n",
       "0           No  No phone service             No          Yes  ...   \n",
       "1          Yes                No            Yes           No  ...   \n",
       "2          Yes                No            Yes          Yes  ...   \n",
       "3           No  No phone service            Yes           No  ...   \n",
       "4          Yes                No             No           No  ...   \n",
       "\n",
       "  Contract_One year Contract_Two year PaymentMethod_Credit card (automatic)  \\\n",
       "0             False             False                                 False   \n",
       "1              True             False                                 False   \n",
       "2             False             False                                 False   \n",
       "3              True             False                                 False   \n",
       "4             False             False                                 False   \n",
       "\n",
       "   PaymentMethod_Electronic check  PaymentMethod_Mailed check  \\\n",
       "0                            True                       False   \n",
       "1                           False                        True   \n",
       "2                           False                        True   \n",
       "3                           False                       False   \n",
       "4                            True                       False   \n",
       "\n",
       "  TechSupport_No internet service  TechSupport_Yes  \\\n",
       "0                           False            False   \n",
       "1                           False            False   \n",
       "2                           False            False   \n",
       "3                           False             True   \n",
       "4                           False            False   \n",
       "\n",
       "   StreamingTV_No internet service  StreamingTV_Yes  Contract_Type  \n",
       "0                            False            False       One Year  \n",
       "1                            False            False       One Year  \n",
       "2                            False            False       One Year  \n",
       "3                            False            False       One Year  \n",
       "4                            False            False       One Year  \n",
       "\n",
       "[5 rows x 28 columns]"
      ]
     },
     "execution_count": 41,
     "metadata": {},
     "output_type": "execute_result"
    }
   ],
   "source": [
    "data.head()"
   ]
  },
  {
   "cell_type": "markdown",
   "id": "9e473d4f",
   "metadata": {},
   "source": [
    "**Anova**"
   ]
  },
  {
   "cell_type": "code",
   "execution_count": 42,
   "id": "60552303",
   "metadata": {},
   "outputs": [
    {
     "name": "stdout",
     "output_type": "stream",
     "text": [
      "ANOVA Results:\n",
      "F-statistic: 997.2680104991439\n",
      "P-value: 7.999057960610892e-205\n",
      "There is a significant difference in tenure between churned and non-churned customers.\n"
     ]
    }
   ],
   "source": [
    "from scipy.stats import f_oneway\n",
    "\n",
    "# Example: ANOVA for tenure grouped by Churn\n",
    "grouped_data = data.groupby('Churn')['tenure']\n",
    "\n",
    "# Extract values for the groups\n",
    "churn_yes = grouped_data.get_group('Yes')  # Group where Churn == Yes\n",
    "churn_no = grouped_data.get_group('No')    # Group where Churn == No\n",
    "\n",
    "# Perform ANOVA\n",
    "f_stat, p_value = f_oneway(churn_yes, churn_no)\n",
    "\n",
    "print(\"ANOVA Results:\")\n",
    "print(f\"F-statistic: {f_stat}\")\n",
    "print(f\"P-value: {p_value}\")\n",
    "if p_value < 0.05:\n",
    "    print(\"There is a significant difference in tenure between churned and non-churned customers.\")\n",
    "else:\n",
    "    print(\"There is no significant difference in tenure between churned and non-churned customers.\")\n"
   ]
  },
  {
   "cell_type": "code",
   "execution_count": 43,
   "id": "53876d79",
   "metadata": {},
   "outputs": [],
   "source": [
    "datadub=data.copy()"
   ]
  },
  {
   "cell_type": "code",
   "execution_count": 44,
   "id": "8506c923",
   "metadata": {
    "scrolled": true
   },
   "outputs": [
    {
     "data": {
      "text/html": [
       "<div>\n",
       "<style scoped>\n",
       "    .dataframe tbody tr th:only-of-type {\n",
       "        vertical-align: middle;\n",
       "    }\n",
       "\n",
       "    .dataframe tbody tr th {\n",
       "        vertical-align: top;\n",
       "    }\n",
       "\n",
       "    .dataframe thead th {\n",
       "        text-align: right;\n",
       "    }\n",
       "</style>\n",
       "<table border=\"1\" class=\"dataframe\">\n",
       "  <thead>\n",
       "    <tr style=\"text-align: right;\">\n",
       "      <th></th>\n",
       "      <th>customerID</th>\n",
       "      <th>gender</th>\n",
       "      <th>SeniorCitizen</th>\n",
       "      <th>Partner</th>\n",
       "      <th>Dependents</th>\n",
       "      <th>tenure</th>\n",
       "      <th>PhoneService</th>\n",
       "      <th>MultipleLines</th>\n",
       "      <th>OnlineSecurity</th>\n",
       "      <th>OnlineBackup</th>\n",
       "      <th>...</th>\n",
       "      <th>Contract_One year</th>\n",
       "      <th>Contract_Two year</th>\n",
       "      <th>PaymentMethod_Credit card (automatic)</th>\n",
       "      <th>PaymentMethod_Electronic check</th>\n",
       "      <th>PaymentMethod_Mailed check</th>\n",
       "      <th>TechSupport_No internet service</th>\n",
       "      <th>TechSupport_Yes</th>\n",
       "      <th>StreamingTV_No internet service</th>\n",
       "      <th>StreamingTV_Yes</th>\n",
       "      <th>Contract_Type</th>\n",
       "    </tr>\n",
       "  </thead>\n",
       "  <tbody>\n",
       "    <tr>\n",
       "      <th>0</th>\n",
       "      <td>7590-VHVEG</td>\n",
       "      <td>0</td>\n",
       "      <td>0</td>\n",
       "      <td>Yes</td>\n",
       "      <td>No</td>\n",
       "      <td>-1.277445</td>\n",
       "      <td>No</td>\n",
       "      <td>No phone service</td>\n",
       "      <td>No</td>\n",
       "      <td>Yes</td>\n",
       "      <td>...</td>\n",
       "      <td>False</td>\n",
       "      <td>False</td>\n",
       "      <td>False</td>\n",
       "      <td>True</td>\n",
       "      <td>False</td>\n",
       "      <td>False</td>\n",
       "      <td>False</td>\n",
       "      <td>False</td>\n",
       "      <td>False</td>\n",
       "      <td>One Year</td>\n",
       "    </tr>\n",
       "    <tr>\n",
       "      <th>1</th>\n",
       "      <td>5575-GNVDE</td>\n",
       "      <td>1</td>\n",
       "      <td>0</td>\n",
       "      <td>No</td>\n",
       "      <td>No</td>\n",
       "      <td>0.066327</td>\n",
       "      <td>Yes</td>\n",
       "      <td>No</td>\n",
       "      <td>Yes</td>\n",
       "      <td>No</td>\n",
       "      <td>...</td>\n",
       "      <td>True</td>\n",
       "      <td>False</td>\n",
       "      <td>False</td>\n",
       "      <td>False</td>\n",
       "      <td>True</td>\n",
       "      <td>False</td>\n",
       "      <td>False</td>\n",
       "      <td>False</td>\n",
       "      <td>False</td>\n",
       "      <td>One Year</td>\n",
       "    </tr>\n",
       "    <tr>\n",
       "      <th>2</th>\n",
       "      <td>3668-QPYBK</td>\n",
       "      <td>1</td>\n",
       "      <td>0</td>\n",
       "      <td>No</td>\n",
       "      <td>No</td>\n",
       "      <td>-1.236724</td>\n",
       "      <td>Yes</td>\n",
       "      <td>No</td>\n",
       "      <td>Yes</td>\n",
       "      <td>Yes</td>\n",
       "      <td>...</td>\n",
       "      <td>False</td>\n",
       "      <td>False</td>\n",
       "      <td>False</td>\n",
       "      <td>False</td>\n",
       "      <td>True</td>\n",
       "      <td>False</td>\n",
       "      <td>False</td>\n",
       "      <td>False</td>\n",
       "      <td>False</td>\n",
       "      <td>One Year</td>\n",
       "    </tr>\n",
       "    <tr>\n",
       "      <th>3</th>\n",
       "      <td>7795-CFOCW</td>\n",
       "      <td>1</td>\n",
       "      <td>0</td>\n",
       "      <td>No</td>\n",
       "      <td>No</td>\n",
       "      <td>0.514251</td>\n",
       "      <td>No</td>\n",
       "      <td>No phone service</td>\n",
       "      <td>Yes</td>\n",
       "      <td>No</td>\n",
       "      <td>...</td>\n",
       "      <td>True</td>\n",
       "      <td>False</td>\n",
       "      <td>False</td>\n",
       "      <td>False</td>\n",
       "      <td>False</td>\n",
       "      <td>False</td>\n",
       "      <td>True</td>\n",
       "      <td>False</td>\n",
       "      <td>False</td>\n",
       "      <td>One Year</td>\n",
       "    </tr>\n",
       "    <tr>\n",
       "      <th>4</th>\n",
       "      <td>9237-HQITU</td>\n",
       "      <td>0</td>\n",
       "      <td>0</td>\n",
       "      <td>No</td>\n",
       "      <td>No</td>\n",
       "      <td>-1.236724</td>\n",
       "      <td>Yes</td>\n",
       "      <td>No</td>\n",
       "      <td>No</td>\n",
       "      <td>No</td>\n",
       "      <td>...</td>\n",
       "      <td>False</td>\n",
       "      <td>False</td>\n",
       "      <td>False</td>\n",
       "      <td>True</td>\n",
       "      <td>False</td>\n",
       "      <td>False</td>\n",
       "      <td>False</td>\n",
       "      <td>False</td>\n",
       "      <td>False</td>\n",
       "      <td>One Year</td>\n",
       "    </tr>\n",
       "  </tbody>\n",
       "</table>\n",
       "<p>5 rows × 28 columns</p>\n",
       "</div>"
      ],
      "text/plain": [
       "   customerID  gender  SeniorCitizen Partner Dependents    tenure  \\\n",
       "0  7590-VHVEG       0              0     Yes         No -1.277445   \n",
       "1  5575-GNVDE       1              0      No         No  0.066327   \n",
       "2  3668-QPYBK       1              0      No         No -1.236724   \n",
       "3  7795-CFOCW       1              0      No         No  0.514251   \n",
       "4  9237-HQITU       0              0      No         No -1.236724   \n",
       "\n",
       "  PhoneService     MultipleLines OnlineSecurity OnlineBackup  ...  \\\n",
       "0           No  No phone service             No          Yes  ...   \n",
       "1          Yes                No            Yes           No  ...   \n",
       "2          Yes                No            Yes          Yes  ...   \n",
       "3           No  No phone service            Yes           No  ...   \n",
       "4          Yes                No             No           No  ...   \n",
       "\n",
       "  Contract_One year Contract_Two year PaymentMethod_Credit card (automatic)  \\\n",
       "0             False             False                                 False   \n",
       "1              True             False                                 False   \n",
       "2             False             False                                 False   \n",
       "3              True             False                                 False   \n",
       "4             False             False                                 False   \n",
       "\n",
       "   PaymentMethod_Electronic check  PaymentMethod_Mailed check  \\\n",
       "0                            True                       False   \n",
       "1                           False                        True   \n",
       "2                           False                        True   \n",
       "3                           False                       False   \n",
       "4                            True                       False   \n",
       "\n",
       "  TechSupport_No internet service  TechSupport_Yes  \\\n",
       "0                           False            False   \n",
       "1                           False            False   \n",
       "2                           False            False   \n",
       "3                           False             True   \n",
       "4                           False            False   \n",
       "\n",
       "   StreamingTV_No internet service  StreamingTV_Yes  Contract_Type  \n",
       "0                            False            False       One Year  \n",
       "1                            False            False       One Year  \n",
       "2                            False            False       One Year  \n",
       "3                            False            False       One Year  \n",
       "4                            False            False       One Year  \n",
       "\n",
       "[5 rows x 28 columns]"
      ]
     },
     "execution_count": 44,
     "metadata": {},
     "output_type": "execute_result"
    }
   ],
   "source": [
    "datadub.head()"
   ]
  },
  {
   "cell_type": "code",
   "execution_count": 45,
   "id": "c2ccf851",
   "metadata": {},
   "outputs": [],
   "source": [
    "columns_to_drop = ['customerID', 'Contract_Type']\n",
    "data = data.drop(columns=columns_to_drop, errors='ignore')"
   ]
  },
  {
   "cell_type": "code",
   "execution_count": 46,
   "id": "eeefbd21",
   "metadata": {},
   "outputs": [],
   "source": [
    "# Map Yes/No to 1/0\n",
    "binary_columns = ['Partner', 'Dependents', 'PhoneService', 'MultipleLines', \n",
    "                  'OnlineSecurity', 'OnlineBackup', 'TechSupport_Yes', \n",
    "                  'StreamingTV_Yes', 'StreamingMovies']\n",
    "\n",
    "for col in binary_columns:\n",
    "    data[col] = data[col].replace({'Yes': 1, 'No': 0, 'No phone service': 0})\n"
   ]
  },
  {
   "cell_type": "code",
   "execution_count": 47,
   "id": "a8a45869",
   "metadata": {},
   "outputs": [],
   "source": [
    "# Perform one-hot encoding for remaining categorical columns if necessary\n",
    "categorical_columns = data.select_dtypes(include=['object']).columns\n",
    "data = pd.get_dummies(data, columns=categorical_columns, drop_first=True)\n"
   ]
  },
  {
   "cell_type": "code",
   "execution_count": 48,
   "id": "5d9cf4fc",
   "metadata": {},
   "outputs": [
    {
     "name": "stdout",
     "output_type": "stream",
     "text": [
      "gender                                     int32\n",
      "SeniorCitizen                              int32\n",
      "Partner                                    int64\n",
      "Dependents                                 int64\n",
      "tenure                                   float64\n",
      "PhoneService                               int64\n",
      "MultipleLines                              int64\n",
      "MonthlyCharges                           float64\n",
      "TotalCharges                             float64\n",
      "InternetService_Fiber optic                 bool\n",
      "InternetService_No                          bool\n",
      "Contract_One year                           bool\n",
      "Contract_Two year                           bool\n",
      "PaymentMethod_Credit card (automatic)       bool\n",
      "PaymentMethod_Electronic check              bool\n",
      "PaymentMethod_Mailed check                  bool\n",
      "TechSupport_No internet service             bool\n",
      "TechSupport_Yes                             bool\n",
      "StreamingTV_No internet service             bool\n",
      "StreamingTV_Yes                             bool\n",
      "OnlineSecurity_1                            bool\n",
      "OnlineSecurity_No internet service          bool\n",
      "OnlineBackup_1                              bool\n",
      "OnlineBackup_No internet service            bool\n",
      "DeviceProtection_No internet service        bool\n",
      "DeviceProtection_Yes                        bool\n",
      "StreamingMovies_1                           bool\n",
      "StreamingMovies_No internet service         bool\n",
      "PaperlessBilling_Yes                        bool\n",
      "Churn_Yes                                   bool\n",
      "dtype: object\n"
     ]
    }
   ],
   "source": [
    "# Verify data types\n",
    "print(data.dtypes)\n"
   ]
  },
  {
   "cell_type": "code",
   "execution_count": 49,
   "id": "ffd31b06",
   "metadata": {
    "scrolled": true
   },
   "outputs": [
    {
     "name": "stdout",
     "output_type": "stream",
     "text": [
      "   gender  SeniorCitizen  Partner  Dependents    tenure  PhoneService  \\\n",
      "0       0              0        1           0 -1.277445             0   \n",
      "1       1              0        0           0  0.066327             1   \n",
      "2       1              0        0           0 -1.236724             1   \n",
      "3       1              0        0           0  0.514251             0   \n",
      "4       0              0        0           0 -1.236724             1   \n",
      "\n",
      "   MultipleLines  MonthlyCharges  TotalCharges  InternetService_Fiber optic  \\\n",
      "0              0       -1.160323     -0.992611                        False   \n",
      "1              0       -0.259629     -0.172165                        False   \n",
      "2              0       -0.362660     -0.958066                        False   \n",
      "3              0       -0.746535     -0.193672                        False   \n",
      "4              0        0.197365     -0.938874                         True   \n",
      "\n",
      "   ...  OnlineSecurity_1  OnlineSecurity_No internet service  OnlineBackup_1  \\\n",
      "0  ...             False                               False            True   \n",
      "1  ...              True                               False           False   \n",
      "2  ...              True                               False            True   \n",
      "3  ...              True                               False           False   \n",
      "4  ...             False                               False           False   \n",
      "\n",
      "   OnlineBackup_No internet service  DeviceProtection_No internet service  \\\n",
      "0                             False                                 False   \n",
      "1                             False                                 False   \n",
      "2                             False                                 False   \n",
      "3                             False                                 False   \n",
      "4                             False                                 False   \n",
      "\n",
      "   DeviceProtection_Yes  StreamingMovies_1  \\\n",
      "0                 False              False   \n",
      "1                  True              False   \n",
      "2                 False              False   \n",
      "3                  True              False   \n",
      "4                 False              False   \n",
      "\n",
      "   StreamingMovies_No internet service  PaperlessBilling_Yes  Churn_Yes  \n",
      "0                                False                  True      False  \n",
      "1                                False                 False      False  \n",
      "2                                False                  True       True  \n",
      "3                                False                 False      False  \n",
      "4                                False                  True       True  \n",
      "\n",
      "[5 rows x 30 columns]\n"
     ]
    }
   ],
   "source": [
    "# View the cleaned data\n",
    "print(data.head())\n"
   ]
  },
  {
   "cell_type": "code",
   "execution_count": 50,
   "id": "ab574386",
   "metadata": {},
   "outputs": [
    {
     "data": {
      "text/html": [
       "<div>\n",
       "<style scoped>\n",
       "    .dataframe tbody tr th:only-of-type {\n",
       "        vertical-align: middle;\n",
       "    }\n",
       "\n",
       "    .dataframe tbody tr th {\n",
       "        vertical-align: top;\n",
       "    }\n",
       "\n",
       "    .dataframe thead th {\n",
       "        text-align: right;\n",
       "    }\n",
       "</style>\n",
       "<table border=\"1\" class=\"dataframe\">\n",
       "  <thead>\n",
       "    <tr style=\"text-align: right;\">\n",
       "      <th></th>\n",
       "      <th>gender</th>\n",
       "      <th>SeniorCitizen</th>\n",
       "      <th>Partner</th>\n",
       "      <th>Dependents</th>\n",
       "      <th>tenure</th>\n",
       "      <th>PhoneService</th>\n",
       "      <th>MultipleLines</th>\n",
       "      <th>MonthlyCharges</th>\n",
       "      <th>TotalCharges</th>\n",
       "      <th>InternetService_Fiber optic</th>\n",
       "      <th>...</th>\n",
       "      <th>OnlineSecurity_1</th>\n",
       "      <th>OnlineSecurity_No internet service</th>\n",
       "      <th>OnlineBackup_1</th>\n",
       "      <th>OnlineBackup_No internet service</th>\n",
       "      <th>DeviceProtection_No internet service</th>\n",
       "      <th>DeviceProtection_Yes</th>\n",
       "      <th>StreamingMovies_1</th>\n",
       "      <th>StreamingMovies_No internet service</th>\n",
       "      <th>PaperlessBilling_Yes</th>\n",
       "      <th>Churn_Yes</th>\n",
       "    </tr>\n",
       "  </thead>\n",
       "  <tbody>\n",
       "    <tr>\n",
       "      <th>0</th>\n",
       "      <td>0</td>\n",
       "      <td>0</td>\n",
       "      <td>1</td>\n",
       "      <td>0</td>\n",
       "      <td>-1.277445</td>\n",
       "      <td>0</td>\n",
       "      <td>0</td>\n",
       "      <td>-1.160323</td>\n",
       "      <td>-0.992611</td>\n",
       "      <td>False</td>\n",
       "      <td>...</td>\n",
       "      <td>False</td>\n",
       "      <td>False</td>\n",
       "      <td>True</td>\n",
       "      <td>False</td>\n",
       "      <td>False</td>\n",
       "      <td>False</td>\n",
       "      <td>False</td>\n",
       "      <td>False</td>\n",
       "      <td>True</td>\n",
       "      <td>False</td>\n",
       "    </tr>\n",
       "    <tr>\n",
       "      <th>1</th>\n",
       "      <td>1</td>\n",
       "      <td>0</td>\n",
       "      <td>0</td>\n",
       "      <td>0</td>\n",
       "      <td>0.066327</td>\n",
       "      <td>1</td>\n",
       "      <td>0</td>\n",
       "      <td>-0.259629</td>\n",
       "      <td>-0.172165</td>\n",
       "      <td>False</td>\n",
       "      <td>...</td>\n",
       "      <td>True</td>\n",
       "      <td>False</td>\n",
       "      <td>False</td>\n",
       "      <td>False</td>\n",
       "      <td>False</td>\n",
       "      <td>True</td>\n",
       "      <td>False</td>\n",
       "      <td>False</td>\n",
       "      <td>False</td>\n",
       "      <td>False</td>\n",
       "    </tr>\n",
       "    <tr>\n",
       "      <th>2</th>\n",
       "      <td>1</td>\n",
       "      <td>0</td>\n",
       "      <td>0</td>\n",
       "      <td>0</td>\n",
       "      <td>-1.236724</td>\n",
       "      <td>1</td>\n",
       "      <td>0</td>\n",
       "      <td>-0.362660</td>\n",
       "      <td>-0.958066</td>\n",
       "      <td>False</td>\n",
       "      <td>...</td>\n",
       "      <td>True</td>\n",
       "      <td>False</td>\n",
       "      <td>True</td>\n",
       "      <td>False</td>\n",
       "      <td>False</td>\n",
       "      <td>False</td>\n",
       "      <td>False</td>\n",
       "      <td>False</td>\n",
       "      <td>True</td>\n",
       "      <td>True</td>\n",
       "    </tr>\n",
       "    <tr>\n",
       "      <th>3</th>\n",
       "      <td>1</td>\n",
       "      <td>0</td>\n",
       "      <td>0</td>\n",
       "      <td>0</td>\n",
       "      <td>0.514251</td>\n",
       "      <td>0</td>\n",
       "      <td>0</td>\n",
       "      <td>-0.746535</td>\n",
       "      <td>-0.193672</td>\n",
       "      <td>False</td>\n",
       "      <td>...</td>\n",
       "      <td>True</td>\n",
       "      <td>False</td>\n",
       "      <td>False</td>\n",
       "      <td>False</td>\n",
       "      <td>False</td>\n",
       "      <td>True</td>\n",
       "      <td>False</td>\n",
       "      <td>False</td>\n",
       "      <td>False</td>\n",
       "      <td>False</td>\n",
       "    </tr>\n",
       "    <tr>\n",
       "      <th>4</th>\n",
       "      <td>0</td>\n",
       "      <td>0</td>\n",
       "      <td>0</td>\n",
       "      <td>0</td>\n",
       "      <td>-1.236724</td>\n",
       "      <td>1</td>\n",
       "      <td>0</td>\n",
       "      <td>0.197365</td>\n",
       "      <td>-0.938874</td>\n",
       "      <td>True</td>\n",
       "      <td>...</td>\n",
       "      <td>False</td>\n",
       "      <td>False</td>\n",
       "      <td>False</td>\n",
       "      <td>False</td>\n",
       "      <td>False</td>\n",
       "      <td>False</td>\n",
       "      <td>False</td>\n",
       "      <td>False</td>\n",
       "      <td>True</td>\n",
       "      <td>True</td>\n",
       "    </tr>\n",
       "  </tbody>\n",
       "</table>\n",
       "<p>5 rows × 30 columns</p>\n",
       "</div>"
      ],
      "text/plain": [
       "   gender  SeniorCitizen  Partner  Dependents    tenure  PhoneService  \\\n",
       "0       0              0        1           0 -1.277445             0   \n",
       "1       1              0        0           0  0.066327             1   \n",
       "2       1              0        0           0 -1.236724             1   \n",
       "3       1              0        0           0  0.514251             0   \n",
       "4       0              0        0           0 -1.236724             1   \n",
       "\n",
       "   MultipleLines  MonthlyCharges  TotalCharges  InternetService_Fiber optic  \\\n",
       "0              0       -1.160323     -0.992611                        False   \n",
       "1              0       -0.259629     -0.172165                        False   \n",
       "2              0       -0.362660     -0.958066                        False   \n",
       "3              0       -0.746535     -0.193672                        False   \n",
       "4              0        0.197365     -0.938874                         True   \n",
       "\n",
       "   ...  OnlineSecurity_1  OnlineSecurity_No internet service  OnlineBackup_1  \\\n",
       "0  ...             False                               False            True   \n",
       "1  ...              True                               False           False   \n",
       "2  ...              True                               False            True   \n",
       "3  ...              True                               False           False   \n",
       "4  ...             False                               False           False   \n",
       "\n",
       "   OnlineBackup_No internet service  DeviceProtection_No internet service  \\\n",
       "0                             False                                 False   \n",
       "1                             False                                 False   \n",
       "2                             False                                 False   \n",
       "3                             False                                 False   \n",
       "4                             False                                 False   \n",
       "\n",
       "   DeviceProtection_Yes  StreamingMovies_1  \\\n",
       "0                 False              False   \n",
       "1                  True              False   \n",
       "2                 False              False   \n",
       "3                  True              False   \n",
       "4                 False              False   \n",
       "\n",
       "   StreamingMovies_No internet service  PaperlessBilling_Yes  Churn_Yes  \n",
       "0                                False                  True      False  \n",
       "1                                False                 False      False  \n",
       "2                                False                  True       True  \n",
       "3                                False                 False      False  \n",
       "4                                False                  True       True  \n",
       "\n",
       "[5 rows x 30 columns]"
      ]
     },
     "execution_count": 50,
     "metadata": {},
     "output_type": "execute_result"
    }
   ],
   "source": [
    "data.head()"
   ]
  },
  {
   "cell_type": "markdown",
   "id": "02c9972e",
   "metadata": {
    "scrolled": true
   },
   "source": [
    "# APPLYING RECURSIVE FEATURE ELIMINATION "
   ]
  },
  {
   "cell_type": "code",
   "execution_count": 51,
   "id": "5ce52fac",
   "metadata": {},
   "outputs": [],
   "source": [
    "from sklearn.feature_selection import RFE\n",
    "from sklearn.linear_model import LogisticRegression\n",
    "from sklearn.tree import DecisionTreeClassifier\n",
    "from sklearn.ensemble import RandomForestClassifier\n"
   ]
  },
  {
   "cell_type": "markdown",
   "id": "4dc01c18",
   "metadata": {},
   "source": [
    "**SETTING UP AN ESTIMATOR:**\n",
    "\n",
    "Choose the model to guide the RFE process. You can start with Logistic Regression (for simplicity)"
   ]
  },
  {
   "cell_type": "code",
   "execution_count": 52,
   "id": "b2ef88c3",
   "metadata": {},
   "outputs": [],
   "source": [
    "# Initialize a model (e.g., Logistic Regression)\n",
    "estimator = LogisticRegression(max_iter=1000, random_state=42)"
   ]
  },
  {
   "cell_type": "markdown",
   "id": "7032c529",
   "metadata": {},
   "source": [
    "**Run RFE:** Set the number of features to select or allow RFE to rank all features."
   ]
  },
  {
   "cell_type": "code",
   "execution_count": 63,
   "id": "e14e73c4",
   "metadata": {
    "scrolled": true
   },
   "outputs": [
    {
     "name": "stdout",
     "output_type": "stream",
     "text": [
      "These are the selected features:\n",
      " Index(['tenure', 'MonthlyCharges', 'TotalCharges',\n",
      "       'InternetService_Fiber optic', 'Contract_One year', 'Contract_Two year',\n",
      "       'StreamingTV_No internet service', 'StreamingTV_Yes',\n",
      "       'StreamingMovies_1', 'StreamingMovies_No internet service'],\n",
      "      dtype='object')\n"
     ]
    }
   ],
   "source": [
    "from sklearn.model_selection import train_test_split\n",
    "\n",
    "# Split data into features (X) and target (y)\n",
    "X = data.drop(columns=['Churn_Yes'])\n",
    "y = data['Churn_Yes']\n",
    "\n",
    "# Split into train-test sets\n",
    "X_train, X_test, y_train, y_test = train_test_split(X, y, test_size=0.2, random_state=42)\n",
    "\n",
    "# Initiate RFE\n",
    "rfe = RFE(estimator=estimator, n_features_to_select=10) # Choose the number of features you want\n",
    "rfe.fit(X_train, y_train)\n",
    "\n",
    "# Get selected features\n",
    "selected_features = X_train.columns[rfe.support_]\n",
    "print(f'These are the selected features:\\n {selected_features}')\n",
    "\n"
   ]
  },
  {
   "cell_type": "markdown",
   "id": "b28785b8",
   "metadata": {},
   "source": [
    "**Train a Logistic Regression Model**"
   ]
  },
  {
   "cell_type": "code",
   "execution_count": 69,
   "id": "556b0b2b",
   "metadata": {},
   "outputs": [
    {
     "name": "stdout",
     "output_type": "stream",
     "text": [
      "Logistic Regression Accuracy: 0.8211497515968772\n",
      "Logistic Regression Report:\n",
      "               precision    recall  f1-score   support\n",
      "\n",
      "       False       0.86      0.90      0.88      1036\n",
      "        True       0.69      0.60      0.64       373\n",
      "\n",
      "    accuracy                           0.82      1409\n",
      "   macro avg       0.77      0.75      0.76      1409\n",
      "weighted avg       0.82      0.82      0.82      1409\n",
      "\n"
     ]
    }
   ],
   "source": [
    "# 1. Train Logistic Regression\n",
    "log_reg = LogisticRegression(max_iter=1000, random_state=42)\n",
    "log_reg.fit(X_train, y_train)\n",
    "y_pred_lr = log_reg.predict(X_test)\n",
    "print(\"Logistic Regression Accuracy:\", accuracy_score(y_test, y_pred_lr))\n",
    "print(\"Logistic Regression Report:\\n\", classification_report(y_test, y_pred_lr))"
   ]
  },
  {
   "cell_type": "markdown",
   "id": "6b8387ae",
   "metadata": {},
   "source": [
    "**Train a Decision Tree Model**"
   ]
  },
  {
   "cell_type": "code",
   "execution_count": 65,
   "id": "6e5b511e",
   "metadata": {},
   "outputs": [
    {
     "name": "stdout",
     "output_type": "stream",
     "text": [
      "Decision Tree Accuracy: 0.716820440028389\n",
      "Decision Tree Report:\n",
      "               precision    recall  f1-score   support\n",
      "\n",
      "       False       0.81      0.81      0.81      1036\n",
      "        True       0.47      0.47      0.47       373\n",
      "\n",
      "    accuracy                           0.72      1409\n",
      "   macro avg       0.64      0.64      0.64      1409\n",
      "weighted avg       0.72      0.72      0.72      1409\n",
      "\n"
     ]
    }
   ],
   "source": [
    "from sklearn.tree import DecisionTreeClassifier\n",
    "from sklearn.metrics import classification_report, accuracy_score\n",
    "\n",
    "# Initialize Decision Tree\n",
    "decision_tree = DecisionTreeClassifier(random_state=42)\n",
    "\n",
    "# Train the model\n",
    "decision_tree =DecisionTreeClassifier(random_state=42)\n",
    "\n",
    "# Train the model\n",
    "decision_tree.fit(X_train, y_train)\n",
    "\n",
    "# Predict and evaluate\n",
    "y_pred = decision_tree.predict(X_test)\n",
    "print(\"Decision Tree Accuracy:\", accuracy_score(y_test, y_pred))\n",
    "print(\"Decision Tree Report:\\n\", classification_report(y_test, y_pred))"
   ]
  },
  {
   "cell_type": "markdown",
   "id": "532bd354",
   "metadata": {},
   "source": [
    "**Train a Random Forest Model**"
   ]
  },
  {
   "cell_type": "code",
   "execution_count": 66,
   "id": "be918e0e",
   "metadata": {
    "scrolled": false
   },
   "outputs": [
    {
     "name": "stdout",
     "output_type": "stream",
     "text": [
      "Random Forest Accuracy: 0.7885024840312278\n",
      "Random Forest Report:\n",
      "               precision    recall  f1-score   support\n",
      "\n",
      "       False       0.82      0.91      0.86      1036\n",
      "        True       0.64      0.45      0.53       373\n",
      "\n",
      "    accuracy                           0.79      1409\n",
      "   macro avg       0.73      0.68      0.70      1409\n",
      "weighted avg       0.77      0.79      0.77      1409\n",
      "\n"
     ]
    }
   ],
   "source": [
    "from sklearn.ensemble import RandomForestClassifier\n",
    "\n",
    "# Initialize Random Forest\n",
    "random_forest = RandomForestClassifier(n_estimators=100, random_state=42)\n",
    "\n",
    "# Train the model\n",
    "random_forest.fit(X_train, y_train)\n",
    "\n",
    "# Predict and evaluate\n",
    "y_pred_rf = random_forest.predict(X_test)\n",
    "print(\"Random Forest Accuracy:\", accuracy_score(y_test, y_pred_rf))\n",
    "print(\"Random Forest Report:\\n\", classification_report(y_test, y_pred_rf))\n"
   ]
  },
  {
   "cell_type": "markdown",
   "id": "d9eb2f43",
   "metadata": {},
   "source": [
    "**Optional: Cross-Validation**\n",
    "\n",
    "To get a more robust evaluation, use cross-validation:"
   ]
  },
  {
   "cell_type": "code",
   "execution_count": 67,
   "id": "5a418217",
   "metadata": {
    "scrolled": true
   },
   "outputs": [
    {
     "name": "stdout",
     "output_type": "stream",
     "text": [
      "Logistic Regression Cross-Validation Accuracy: 0.8037778647009484\n"
     ]
    }
   ],
   "source": [
    "from sklearn.model_selection import cross_val_score\n",
    "\n",
    "# Example: Logistic Regression with cross-validation\n",
    "log_reg = LogisticRegression(max_iter=1000, random_state=42)\n",
    "cv_scores = cross_val_score(log_reg, X, y, cv=5, scoring='accuracy')\n",
    "print(\"Logistic Regression Cross-Validation Accuracy:\", cv_scores.mean())\n"
   ]
  },
  {
   "cell_type": "markdown",
   "id": "9416a7e0",
   "metadata": {},
   "source": [
    "**Using metrics Like \"precision, recall, F1-score, AUC-ROC\"**"
   ]
  },
  {
   "cell_type": "code",
   "execution_count": 70,
   "id": "f7216fb7",
   "metadata": {
    "scrolled": true
   },
   "outputs": [
    {
     "name": "stdout",
     "output_type": "stream",
     "text": [
      "Logistic Regression Report:\n",
      "               precision    recall  f1-score   support\n",
      "\n",
      "       False       0.86      0.90      0.88      1036\n",
      "        True       0.69      0.60      0.64       373\n",
      "\n",
      "    accuracy                           0.82      1409\n",
      "   macro avg       0.77      0.75      0.76      1409\n",
      "weighted avg       0.82      0.82      0.82      1409\n",
      "\n",
      "Logistic Regression AUC-ROC: 0.8622421253118304\n"
     ]
    },
    {
     "data": {
      "image/png": "[encoded data removed]",
      "text/plain": [
       "<Figure size 640x480 with 1 Axes>"
      ]
     },
     "metadata": {},
     "output_type": "display_data"
    }
   ],
   "source": [
    "from sklearn.metrics import classification_report, roc_auc_score, roc_curve\n",
    "\n",
    "# For Logistic Regression\n",
    "y_pred_me = log_reg.predict(X_test)\n",
    "y_prob_me = log_reg.predict_proba(X_test)[:, 1]\n",
    "\n",
    "# Classification Report (Precision, Recall, F1-Score)\n",
    "print(\"Logistic Regression Report:\\n\", classification_report(y_test, y_pred_me))\n",
    "\n",
    "# AUC-ROC (Area Under the Receiver Operating Characteristic Curve)\n",
    "auc_roc_me = roc_auc_score(y_test, y_prob_me)\n",
    "print(\"Logistic Regression AUC-ROC:\", auc_roc_me)\n",
    "\n",
    "# Plot ROC Curve (Optional)\n",
    "fpr_lr, tpr_lr, _ = roc_curve(y_test, y_prob_me)\n",
    "plt.plot(fpr_lr, tpr_lr, label='Logistic Regression (AUC = {:.2f})'.format(auc_roc_me))\n",
    "plt.plot([0, 1], [0, 1], 'k--')  # Random guess line\n",
    "plt.xlabel('False Positive Rate')\n",
    "plt.ylabel('True Positive Rate')\n",
    "plt.title('ROC Curve')\n",
    "plt.legend()\n",
    "plt.show()\n"
   ]
  },
  {
   "cell_type": "markdown",
   "id": "be2689c1",
   "metadata": {},
   "source": [
    "**AUC-ROC** stands for **Area Under the Receiver Operating Characteristic Curve**, and it is a performance measurement used to evaluate the ability of a classification model to distinguish between the positive and negative classes. It plots the relationship between:\n",
    "1. True Positive Rate (TPR)\n",
    "2. False  Positive Rate (FPR)\n",
    "\n",
    "\n",
    "**The ROC curve** is generated by plotting the TPR against the FPR at various classification thresholds. By adjusting the threshold, the model's sensitivity and specificity (true negative rate) change, and the curve reflects how well the model separates the two classes.\n",
    "\n",
    "**AUC** stands for Area Under the Curve. It quantifies the entire area under the ROC curve, providing a single value to measure the model's performance.\n"
   ]
  },
  {
   "cell_type": "markdown",
   "id": "8868cbda",
   "metadata": {},
   "source": [
    "**How to Interpret AUC-ROC?**\n",
    "1. High AUC (close to 1): The model is excellent at distinguishing between the positive and negative classes.\n",
    "\n",
    "2. Moderate AUC (0.7–0.9): The model is good but may need improvement.\n",
    "\n",
    "3. Low AUC (close to 0.5): The model has poor discrimination ability.\n",
    "\n",
    "Overfitting occurs when a model performs well on the training set but poorly on the validation or test set.\n",
    "\n",
    "NB: **Regularization**\n",
    "\n",
    "-For Logistic Regression, use stronger regularization (C parameter).\n",
    "\n",
    "For Decision Trees and Random Forests, limit max_depth, min_samples_split, and min_samples_leaf."
   ]
  },
  {
   "cell_type": "markdown",
   "id": "59bba6ff",
   "metadata": {},
   "source": [
    "# Fine-Tuning Models\n",
    "\n",
    "Fine-tuning involves adjusting model hyperparameters and configurations to improve performance. Here’s a step-by-step approach:\n",
    "\n",
    "**a. For Logistic Regression**\n",
    "\n",
    "-Hyperparameters to Tune:\n",
    "\n",
    "1. C: Inverse of regularization strength. Smaller values specify stronger regularization.\n",
    "2. solver: Optimization algorithm (e.g., 'liblinear', 'saga')."
   ]
  },
  {
   "cell_type": "code",
   "execution_count": 71,
   "id": "ddcedd9b",
   "metadata": {},
   "outputs": [
    {
     "name": "stdout",
     "output_type": "stream",
     "text": [
      "Best Parameters: {'C': 10, 'solver': 'saga'}\n"
     ]
    }
   ],
   "source": [
    "from sklearn.model_selection import GridSearchCV\n",
    "\n",
    "# Define the Parameter grid\n",
    "param_grid = {\n",
    "    'C': [0.001, 0.1, 1, 10, 100],\n",
    "    'solver': ['liblinear', 'saga']\n",
    "}\n",
    "\n",
    "grid = GridSearchCV(estimator=log_reg, param_grid=param_grid, cv=5, scoring='accuracy')\n",
    "grid.fit(X_train, y_train)\n",
    "\n",
    "print(\"Best Parameters:\", grid.best_params_)\n",
    "best_log_reg = grid.best_estimator_"
   ]
  },
  {
   "cell_type": "markdown",
   "id": "cf0a867e",
   "metadata": {},
   "source": [
    "**b. Decision Trees**\n",
    "\n",
    "-Hyperparameters to Tune:\n",
    "\n",
    "1. max_depth: Limits the depth of the tree to prevent overfitting.\n",
    "2. min_samples_split: Minimum number of samples required to split an internal node.\n",
    "3. min_samples_leaf: Minimum number of samples required at a leaf node."
   ]
  },
  {
   "cell_type": "code",
   "execution_count": 72,
   "id": "65d84e1b",
   "metadata": {},
   "outputs": [
    {
     "name": "stdout",
     "output_type": "stream",
     "text": [
      "Best Parameters: {'max_depth': 5, 'min_samples_leaf': 4, 'min_samples_split': 2}\n"
     ]
    }
   ],
   "source": [
    "param_grid = {\n",
    "    'max_depth': [3, 5, 10, None],\n",
    "    'min_samples_split': [2, 5, 10],\n",
    "    'min_samples_leaf': [1, 2, 4]\n",
    "}\n",
    "\n",
    "grid = GridSearchCV(estimator=decision_tree, param_grid=param_grid, cv=5, scoring='accuracy')\n",
    "grid.fit(X_train, y_train)\n",
    "\n",
    "print(\"Best Parameters:\", grid.best_params_)\n",
    "best_decision_tree = grid.best_estimator_\n"
   ]
  },
  {
   "cell_type": "markdown",
   "id": "25484fee",
   "metadata": {},
   "source": [
    "**c. Random Forests**\n",
    "\n",
    "-Hyperparameters to Tune:\n",
    "1. n_estimators: Number of trees in the forest.\n",
    "2. max_features: Number of features considered for splitting.\n",
    "3. max_depth, min_samples_split, min_samples_leaf: Similar to Decision Trees."
   ]
  },
  {
   "cell_type": "code",
   "execution_count": 73,
   "id": "d29fe070",
   "metadata": {},
   "outputs": [
    {
     "name": "stdout",
     "output_type": "stream",
     "text": [
      "Best Parameters: {'max_depth': 10, 'max_features': 'sqrt', 'n_estimators': 200}\n"
     ]
    }
   ],
   "source": [
    "param_grid = {\n",
    "    'n_estimators': [50, 100, 200],\n",
    "    'max_features': ['sqrt', 'log2', None],\n",
    "    'max_depth': [3, 5, 10, None]\n",
    "}\n",
    "\n",
    "grid = GridSearchCV(estimator=random_forest, param_grid=param_grid, cv=5, scoring='accuracy')\n",
    "grid.fit(X_train, y_train)\n",
    "\n",
    "print(\"Best Parameters:\", grid.best_params_)\n",
    "best_random_forest = grid.best_estimator_\n"
   ]
  },
  {
   "cell_type": "markdown",
   "id": "5b5dd575",
   "metadata": {},
   "source": [
    "**Checking for Overfitting**"
   ]
  },
  {
   "cell_type": "code",
   "execution_count": 111,
   "id": "c25abe08",
   "metadata": {
    "scrolled": true
   },
   "outputs": [
    {
     "data": {
      "image/png": "[encoded data removed]",
      "text/plain": [
       "<Figure size 640x480 with 1 Axes>"
      ]
     },
     "metadata": {},
     "output_type": "display_data"
    }
   ],
   "source": [
    "from sklearn.model_selection import learning_curve\n",
    "import matplotlib.pyplot as plt\n",
    "\n",
    "train_sizes, train_scores, valid_scores = learning_curve(best_random_forest, X_train, y_train, cv=5)\n",
    "\n",
    "plt.plot(train_sizes, train_scores.mean(axis=1), label='Training Score')\n",
    "plt.plot(train_sizes, valid_scores.mean(axis=1), label='Validation Score')\n",
    "plt.xlabel('Training Size')\n",
    "plt.ylabel('Score')\n",
    "plt.title('Learning Curve')\n",
    "plt.legend()\n",
    "plt.show()\n"
   ]
  },
  {
   "cell_type": "code",
   "execution_count": null,
   "id": "c3476ca1",
   "metadata": {},
   "outputs": [],
   "source": []
  }
 ],
 "metadata": {
  "kernelspec": {
   "display_name": "Python 3 (ipykernel)",
   "language": "python",
   "name": "python3"
  },
  "language_info": {
   "codemirror_mode": {
    "name": "ipython",
    "version": 3
   },
   "file_extension": ".py",
   "mimetype": "text/x-python",
   "name": "python",
   "nbconvert_exporter": "python",
   "pygments_lexer": "ipython3",
   "version": "3.11.5"
  }
 },
 "nbformat": 4,
 "nbformat_minor": 5
}
