{
 "cells": [
  {
   "cell_type": "code",
   "execution_count": 5,
   "id": "c442fae7",
   "metadata": {},
   "outputs": [],
   "source": [
    "def is_followed_by_zeros(mileage):\n",
    "    # Convert the number to a string and check if it's in the form like 100, 2000, etc.\n",
    "    mileage_str = str(mileage)\n",
    "    return mileage_str[1:] == '0'* (len(mileage_str) - 1) \n"
   ]
  },
  {
   "cell_type": "code",
   "execution_count": 6,
   "id": "fe88f7df",
   "metadata": {},
   "outputs": [
    {
     "data": {
      "text/plain": [
       "9"
      ]
     },
     "execution_count": 6,
     "metadata": {},
     "output_type": "execute_result"
    }
   ],
   "source": [
    "5+4\n"
   ]
  },
  {
   "cell_type": "code",
   "execution_count": 7,
   "id": "ea99338c",
   "metadata": {},
   "outputs": [
    {
     "data": {
      "text/plain": [
       "False"
      ]
     },
     "execution_count": 7,
     "metadata": {},
     "output_type": "execute_result"
    }
   ],
   "source": [
    "is_followed_by_zeros(1000)"
   ]
  },
  {
   "cell_type": "code",
   "execution_count": 9,
   "id": "f4cb4310",
   "metadata": {},
   "outputs": [],
   "source": [
    "der={1,2,3,3,3}"
   ]
  },
  {
   "cell_type": "code",
   "execution_count": 10,
   "id": "384427d2",
   "metadata": {},
   "outputs": [
    {
     "data": {
      "text/plain": [
       "3"
      ]
     },
     "execution_count": 10,
     "metadata": {},
     "output_type": "execute_result"
    }
   ],
   "source": [
    "len(der)"
   ]
  },
  {
   "cell_type": "code",
   "execution_count": 18,
   "id": "46795e25",
   "metadata": {},
   "outputs": [],
   "source": [
    "today=[1,2,3,4,5]"
   ]
  },
  {
   "cell_type": "code",
   "execution_count": 19,
   "id": "5496b6e9",
   "metadata": {},
   "outputs": [],
   "source": [
    "today_1=str(today)"
   ]
  },
  {
   "cell_type": "code",
   "execution_count": 27,
   "id": "9c6f8c01",
   "metadata": {},
   "outputs": [
    {
     "data": {
      "text/plain": [
       "[5, 4, 3, 2, 1]"
      ]
     },
     "execution_count": 27,
     "metadata": {},
     "output_type": "execute_result"
    }
   ],
   "source": [
    "today[::-1]"
   ]
  },
  {
   "cell_type": "code",
   "execution_count": 47,
   "id": "2d94c0a8",
   "metadata": {},
   "outputs": [],
   "source": [
    "def is_interesting (mileage,awesome_phrases):\n",
    "    if mileage<100:\n",
    "        return 0\n",
    "    \n",
    "    def is_followed_by_zeros (mileage):\n",
    "        mileage_str=str(mileage)\n",
    "        return mileage_str[1:]==\"0\"*(len(mileage_str)-1)\n",
    "    \n",
    "    def is_same_digit (mileage):\n",
    "        mileage_str=str(mileage)\n",
    "        return len(set(mileage_str))==1\n",
    "    \n",
    "    def is_palindrome(mileage):  #Reversing the string and comparing it to the original\n",
    "        mileage_str=str(mileage)\n",
    "        return mileage_str==mileage_str[::-1]\n",
    "    \n",
    "    def is_incrementing (mileage):\n",
    "        increaments=\"1,2,3,4,5,6,7,8,9,0\"\n",
    "        mileage_str=str(mileage)\n",
    "        return mileage_str in increaments\n",
    "    \n",
    "    def is_decrementing (mileage):\n",
    "        decreaments=\"0,9,8,7,6,5,4,3,2,1\"\n",
    "        mileage_str=str(mileage)\n",
    "        return mileage_str in decreaments \n",
    "    \n",
    "    def is_awesome_phrase(mileage, awesome_phrases):\n",
    "        return mileage in awesome_phrases\n",
    "    \n",
    "    def is_interesting_number(mileage):\n",
    "        return (is_followed_by_zeros(mileage) or \n",
    "                is_same_digit(mileage) or \n",
    "                is_palindrome(mileage) or\n",
    "                is_incrementing(mileage) or\n",
    "                is_decrementing(mileage) or\n",
    "                is_awesome_phrase(mileage, awesome_phrases))\n",
    "    \n",
    "    if is_interesting_number (mileage):\n",
    "        return 2\n",
    "    elif is_interesting_number (mileage+1) or (mileage+2):\n",
    "        return 1\n",
    "    else:\n",
    "        return 0\n",
    "    \n",
    "        \n",
    "        \n",
    "        \n",
    "        \n",
    "    "
   ]
  },
  {
   "cell_type": "code",
   "execution_count": 49,
   "id": "ce2f7d11",
   "metadata": {},
   "outputs": [
    {
     "name": "stdout",
     "output_type": "stream",
     "text": [
      "2\n",
      "2\n",
      "1\n",
      "1\n",
      "2\n",
      "1\n",
      "2\n",
      "1\n"
     ]
    }
   ],
   "source": [
    "print(is_interesting(100, []))  # 2 (100 is followed by zeros)\n",
    "print(is_interesting(111, []))  # 2 (All digits are the same)\n",
    "print(is_interesting(123, []))  # 2 (Incrementing sequence)\n",
    "print(is_interesting(3210, []))  # 2 (Decrementing sequence)\n",
    "print(is_interesting(1221, []))  # 2 (Palindrome)\n",
    "print(is_interesting(1335, [1337, 256]))  # 1 (Awesome phrase coming soon)\n",
    "print(is_interesting(1337, [1337, 256]))  # 2 (Awesome phrase)\n",
    "print(is_interesting(11208, [1337, 256]))\n"
   ]
  },
  {
   "cell_type": "markdown",
   "id": "ccfd679a",
   "metadata": {},
   "source": [
    "# Codes with Comments"
   ]
  },
  {
   "cell_type": "code",
   "execution_count": null,
   "id": "d5f1af7d",
   "metadata": {},
   "outputs": [],
   "source": [
    "def is_interesting(mileage, awesome_phrases):\n",
    "    if mileage < 100:\n",
    "        return 0\n",
    "\n",
    "    def is_followed_by_zeros(mileage):\n",
    "        mileage_str = str(mileage)\n",
    "        return mileage_str[1:] == '0' * (len(mileage_str) - 1)\n",
    "\n",
    "    def is_same_digit(mileage):\n",
    "        mileage_str = str(mileage)\n",
    "        return len(set(mileage_str)) == 1  # Set removes duplicates, so if all are the same, set length will be 1\n",
    "\n",
    "    def is_palindrome(mileage):\n",
    "        mileage_str = str(mileage)\n",
    "        return mileage_str == mileage_str[::-1]  # Reversing the string and comparing it to the original\n",
    "\n",
    "    def is_incrementing(mileage):\n",
    "        increments = '1234567890'  # Since 0 follows 9\n",
    "        mileage_str = str(mileage)\n",
    "        return mileage_str in increments\n",
    "\n",
    "    def is_decrementing(mileage):\n",
    "        decrements = '9876543210'  # Since 0 follows 1\n",
    "        mileage_str = str(mileage)\n",
    "        return mileage_str in decrements\n",
    "\n",
    "    def is_awesome_phrase(mileage, awesome_phrases):\n",
    "        return mileage in awesome_phrases\n",
    "\n",
    "    # Check if any condition is met for \"interesting\"\n",
    "    def is_interesting_number(mileage):\n",
    "        return (is_followed_by_zeros(mileage) or \n",
    "                is_same_digit(mileage) or \n",
    "                is_palindrome(mileage) or\n",
    "                is_incrementing(mileage) or\n",
    "                is_decrementing(mileage) or\n",
    "                is_awesome_phrase(mileage, awesome_phrases))\n",
    "\n",
    "    # Check if the current mileage is interesting\n",
    "    if is_interesting_number(mileage):\n",
    "        return 2\n",
    "    # Check if the next one or two miles are interesting\n",
    "    elif is_interesting_number(mileage + 1) or is_interesting_number(mileage + 2):\n",
    "        return 1\n",
    "    # If none of the above, return 0\n",
    "    else:\n",
    "        return 0\n"
   ]
  }
 ],
 "metadata": {
  "kernelspec": {
   "display_name": "Python 3 (ipykernel)",
   "language": "python",
   "name": "python3"
  },
  "language_info": {
   "codemirror_mode": {
    "name": "ipython",
    "version": 3
   },
   "file_extension": ".py",
   "mimetype": "text/x-python",
   "name": "python",
   "nbconvert_exporter": "python",
   "pygments_lexer": "ipython3",
   "version": "3.11.5"
  }
 },
 "nbformat": 4,
 "nbformat_minor": 5
}
